{
  "nbformat": 4,
  "nbformat_minor": 0,
  "metadata": {
    "colab": {
      "provenance": []
    },
    "kernelspec": {
      "name": "python3",
      "display_name": "Python 3"
    },
    "language_info": {
      "name": "python"
    },
    "accelerator": "GPU",
    "widgets": {
      "application/vnd.jupyter.widget-state+json": {
        "fb527ef39e82452d95e34ab3e6cabede": {
          "model_module": "@jupyter-widgets/controls",
          "model_name": "HBoxModel",
          "model_module_version": "1.5.0",
          "state": {
            "_dom_classes": [],
            "_model_module": "@jupyter-widgets/controls",
            "_model_module_version": "1.5.0",
            "_model_name": "HBoxModel",
            "_view_count": null,
            "_view_module": "@jupyter-widgets/controls",
            "_view_module_version": "1.5.0",
            "_view_name": "HBoxView",
            "box_style": "",
            "children": [
              "IPY_MODEL_cfcd3f947d444ec4b20718c930fa3faa",
              "IPY_MODEL_5a32e0a059a149ba8967de7327f38e30",
              "IPY_MODEL_c3335938b59e4b288db9811510fce3e6"
            ],
            "layout": "IPY_MODEL_b5a07233777a4674a90353a6d8445869"
          }
        },
        "cfcd3f947d444ec4b20718c930fa3faa": {
          "model_module": "@jupyter-widgets/controls",
          "model_name": "HTMLModel",
          "model_module_version": "1.5.0",
          "state": {
            "_dom_classes": [],
            "_model_module": "@jupyter-widgets/controls",
            "_model_module_version": "1.5.0",
            "_model_name": "HTMLModel",
            "_view_count": null,
            "_view_module": "@jupyter-widgets/controls",
            "_view_module_version": "1.5.0",
            "_view_name": "HTMLView",
            "description": "",
            "description_tooltip": null,
            "layout": "IPY_MODEL_73da4dd5779244d99ddac832d48f8d24",
            "placeholder": "​",
            "style": "IPY_MODEL_1806ff5ee5b04c87a108d25196c48234",
            "value": "Downloading: 100%"
          }
        },
        "5a32e0a059a149ba8967de7327f38e30": {
          "model_module": "@jupyter-widgets/controls",
          "model_name": "FloatProgressModel",
          "model_module_version": "1.5.0",
          "state": {
            "_dom_classes": [],
            "_model_module": "@jupyter-widgets/controls",
            "_model_module_version": "1.5.0",
            "_model_name": "FloatProgressModel",
            "_view_count": null,
            "_view_module": "@jupyter-widgets/controls",
            "_view_module_version": "1.5.0",
            "_view_name": "ProgressView",
            "bar_style": "success",
            "description": "",
            "description_tooltip": null,
            "layout": "IPY_MODEL_551ae9e45877411aaf25c21cebc40083",
            "max": 29,
            "min": 0,
            "orientation": "horizontal",
            "style": "IPY_MODEL_171986b90e374b0dba88e70ef7db9556",
            "value": 29
          }
        },
        "c3335938b59e4b288db9811510fce3e6": {
          "model_module": "@jupyter-widgets/controls",
          "model_name": "HTMLModel",
          "model_module_version": "1.5.0",
          "state": {
            "_dom_classes": [],
            "_model_module": "@jupyter-widgets/controls",
            "_model_module_version": "1.5.0",
            "_model_name": "HTMLModel",
            "_view_count": null,
            "_view_module": "@jupyter-widgets/controls",
            "_view_module_version": "1.5.0",
            "_view_name": "HTMLView",
            "description": "",
            "description_tooltip": null,
            "layout": "IPY_MODEL_51fd7e7b3f3d459e9824b18305c667cd",
            "placeholder": "​",
            "style": "IPY_MODEL_b90234c693354ff48b5f31b0f2ccbfc3",
            "value": " 29.0/29.0 [00:00&lt;00:00, 950B/s]"
          }
        },
        "b5a07233777a4674a90353a6d8445869": {
          "model_module": "@jupyter-widgets/base",
          "model_name": "LayoutModel",
          "model_module_version": "1.2.0",
          "state": {
            "_model_module": "@jupyter-widgets/base",
            "_model_module_version": "1.2.0",
            "_model_name": "LayoutModel",
            "_view_count": null,
            "_view_module": "@jupyter-widgets/base",
            "_view_module_version": "1.2.0",
            "_view_name": "LayoutView",
            "align_content": null,
            "align_items": null,
            "align_self": null,
            "border": null,
            "bottom": null,
            "display": null,
            "flex": null,
            "flex_flow": null,
            "grid_area": null,
            "grid_auto_columns": null,
            "grid_auto_flow": null,
            "grid_auto_rows": null,
            "grid_column": null,
            "grid_gap": null,
            "grid_row": null,
            "grid_template_areas": null,
            "grid_template_columns": null,
            "grid_template_rows": null,
            "height": null,
            "justify_content": null,
            "justify_items": null,
            "left": null,
            "margin": null,
            "max_height": null,
            "max_width": null,
            "min_height": null,
            "min_width": null,
            "object_fit": null,
            "object_position": null,
            "order": null,
            "overflow": null,
            "overflow_x": null,
            "overflow_y": null,
            "padding": null,
            "right": null,
            "top": null,
            "visibility": null,
            "width": null
          }
        },
        "73da4dd5779244d99ddac832d48f8d24": {
          "model_module": "@jupyter-widgets/base",
          "model_name": "LayoutModel",
          "model_module_version": "1.2.0",
          "state": {
            "_model_module": "@jupyter-widgets/base",
            "_model_module_version": "1.2.0",
            "_model_name": "LayoutModel",
            "_view_count": null,
            "_view_module": "@jupyter-widgets/base",
            "_view_module_version": "1.2.0",
            "_view_name": "LayoutView",
            "align_content": null,
            "align_items": null,
            "align_self": null,
            "border": null,
            "bottom": null,
            "display": null,
            "flex": null,
            "flex_flow": null,
            "grid_area": null,
            "grid_auto_columns": null,
            "grid_auto_flow": null,
            "grid_auto_rows": null,
            "grid_column": null,
            "grid_gap": null,
            "grid_row": null,
            "grid_template_areas": null,
            "grid_template_columns": null,
            "grid_template_rows": null,
            "height": null,
            "justify_content": null,
            "justify_items": null,
            "left": null,
            "margin": null,
            "max_height": null,
            "max_width": null,
            "min_height": null,
            "min_width": null,
            "object_fit": null,
            "object_position": null,
            "order": null,
            "overflow": null,
            "overflow_x": null,
            "overflow_y": null,
            "padding": null,
            "right": null,
            "top": null,
            "visibility": null,
            "width": null
          }
        },
        "1806ff5ee5b04c87a108d25196c48234": {
          "model_module": "@jupyter-widgets/controls",
          "model_name": "DescriptionStyleModel",
          "model_module_version": "1.5.0",
          "state": {
            "_model_module": "@jupyter-widgets/controls",
            "_model_module_version": "1.5.0",
            "_model_name": "DescriptionStyleModel",
            "_view_count": null,
            "_view_module": "@jupyter-widgets/base",
            "_view_module_version": "1.2.0",
            "_view_name": "StyleView",
            "description_width": ""
          }
        },
        "551ae9e45877411aaf25c21cebc40083": {
          "model_module": "@jupyter-widgets/base",
          "model_name": "LayoutModel",
          "model_module_version": "1.2.0",
          "state": {
            "_model_module": "@jupyter-widgets/base",
            "_model_module_version": "1.2.0",
            "_model_name": "LayoutModel",
            "_view_count": null,
            "_view_module": "@jupyter-widgets/base",
            "_view_module_version": "1.2.0",
            "_view_name": "LayoutView",
            "align_content": null,
            "align_items": null,
            "align_self": null,
            "border": null,
            "bottom": null,
            "display": null,
            "flex": null,
            "flex_flow": null,
            "grid_area": null,
            "grid_auto_columns": null,
            "grid_auto_flow": null,
            "grid_auto_rows": null,
            "grid_column": null,
            "grid_gap": null,
            "grid_row": null,
            "grid_template_areas": null,
            "grid_template_columns": null,
            "grid_template_rows": null,
            "height": null,
            "justify_content": null,
            "justify_items": null,
            "left": null,
            "margin": null,
            "max_height": null,
            "max_width": null,
            "min_height": null,
            "min_width": null,
            "object_fit": null,
            "object_position": null,
            "order": null,
            "overflow": null,
            "overflow_x": null,
            "overflow_y": null,
            "padding": null,
            "right": null,
            "top": null,
            "visibility": null,
            "width": null
          }
        },
        "171986b90e374b0dba88e70ef7db9556": {
          "model_module": "@jupyter-widgets/controls",
          "model_name": "ProgressStyleModel",
          "model_module_version": "1.5.0",
          "state": {
            "_model_module": "@jupyter-widgets/controls",
            "_model_module_version": "1.5.0",
            "_model_name": "ProgressStyleModel",
            "_view_count": null,
            "_view_module": "@jupyter-widgets/base",
            "_view_module_version": "1.2.0",
            "_view_name": "StyleView",
            "bar_color": null,
            "description_width": ""
          }
        },
        "51fd7e7b3f3d459e9824b18305c667cd": {
          "model_module": "@jupyter-widgets/base",
          "model_name": "LayoutModel",
          "model_module_version": "1.2.0",
          "state": {
            "_model_module": "@jupyter-widgets/base",
            "_model_module_version": "1.2.0",
            "_model_name": "LayoutModel",
            "_view_count": null,
            "_view_module": "@jupyter-widgets/base",
            "_view_module_version": "1.2.0",
            "_view_name": "LayoutView",
            "align_content": null,
            "align_items": null,
            "align_self": null,
            "border": null,
            "bottom": null,
            "display": null,
            "flex": null,
            "flex_flow": null,
            "grid_area": null,
            "grid_auto_columns": null,
            "grid_auto_flow": null,
            "grid_auto_rows": null,
            "grid_column": null,
            "grid_gap": null,
            "grid_row": null,
            "grid_template_areas": null,
            "grid_template_columns": null,
            "grid_template_rows": null,
            "height": null,
            "justify_content": null,
            "justify_items": null,
            "left": null,
            "margin": null,
            "max_height": null,
            "max_width": null,
            "min_height": null,
            "min_width": null,
            "object_fit": null,
            "object_position": null,
            "order": null,
            "overflow": null,
            "overflow_x": null,
            "overflow_y": null,
            "padding": null,
            "right": null,
            "top": null,
            "visibility": null,
            "width": null
          }
        },
        "b90234c693354ff48b5f31b0f2ccbfc3": {
          "model_module": "@jupyter-widgets/controls",
          "model_name": "DescriptionStyleModel",
          "model_module_version": "1.5.0",
          "state": {
            "_model_module": "@jupyter-widgets/controls",
            "_model_module_version": "1.5.0",
            "_model_name": "DescriptionStyleModel",
            "_view_count": null,
            "_view_module": "@jupyter-widgets/base",
            "_view_module_version": "1.2.0",
            "_view_name": "StyleView",
            "description_width": ""
          }
        },
        "9f566ebbc81a44c4a7e1fb33175c62f5": {
          "model_module": "@jupyter-widgets/controls",
          "model_name": "HBoxModel",
          "model_module_version": "1.5.0",
          "state": {
            "_dom_classes": [],
            "_model_module": "@jupyter-widgets/controls",
            "_model_module_version": "1.5.0",
            "_model_name": "HBoxModel",
            "_view_count": null,
            "_view_module": "@jupyter-widgets/controls",
            "_view_module_version": "1.5.0",
            "_view_name": "HBoxView",
            "box_style": "",
            "children": [
              "IPY_MODEL_fd4943f9302f421da183bd625084cd5d",
              "IPY_MODEL_135072d4baaf42b08b0e447476cddcc8",
              "IPY_MODEL_1c296d34b6d84bb98defd25971fdeb51"
            ],
            "layout": "IPY_MODEL_f8a0af305bec4fffaeeb9e8fd01d17a8"
          }
        },
        "fd4943f9302f421da183bd625084cd5d": {
          "model_module": "@jupyter-widgets/controls",
          "model_name": "HTMLModel",
          "model_module_version": "1.5.0",
          "state": {
            "_dom_classes": [],
            "_model_module": "@jupyter-widgets/controls",
            "_model_module_version": "1.5.0",
            "_model_name": "HTMLModel",
            "_view_count": null,
            "_view_module": "@jupyter-widgets/controls",
            "_view_module_version": "1.5.0",
            "_view_name": "HTMLView",
            "description": "",
            "description_tooltip": null,
            "layout": "IPY_MODEL_e58b13a234c94247a967cbbff0b9b3b1",
            "placeholder": "​",
            "style": "IPY_MODEL_312bf1ba5d394def9429830cc3923e58",
            "value": "Downloading: 100%"
          }
        },
        "135072d4baaf42b08b0e447476cddcc8": {
          "model_module": "@jupyter-widgets/controls",
          "model_name": "FloatProgressModel",
          "model_module_version": "1.5.0",
          "state": {
            "_dom_classes": [],
            "_model_module": "@jupyter-widgets/controls",
            "_model_module_version": "1.5.0",
            "_model_name": "FloatProgressModel",
            "_view_count": null,
            "_view_module": "@jupyter-widgets/controls",
            "_view_module_version": "1.5.0",
            "_view_name": "ProgressView",
            "bar_style": "success",
            "description": "",
            "description_tooltip": null,
            "layout": "IPY_MODEL_ebb9a8eedc4b4dabab68f199e641b122",
            "max": 570,
            "min": 0,
            "orientation": "horizontal",
            "style": "IPY_MODEL_132371b65003485a9f2c59ac40699c86",
            "value": 570
          }
        },
        "1c296d34b6d84bb98defd25971fdeb51": {
          "model_module": "@jupyter-widgets/controls",
          "model_name": "HTMLModel",
          "model_module_version": "1.5.0",
          "state": {
            "_dom_classes": [],
            "_model_module": "@jupyter-widgets/controls",
            "_model_module_version": "1.5.0",
            "_model_name": "HTMLModel",
            "_view_count": null,
            "_view_module": "@jupyter-widgets/controls",
            "_view_module_version": "1.5.0",
            "_view_name": "HTMLView",
            "description": "",
            "description_tooltip": null,
            "layout": "IPY_MODEL_a81297d129d6463abdbe7e7e2c897d6a",
            "placeholder": "​",
            "style": "IPY_MODEL_07bcf028b47946708959c89e9e3933e2",
            "value": " 570/570 [00:00&lt;00:00, 16.4kB/s]"
          }
        },
        "f8a0af305bec4fffaeeb9e8fd01d17a8": {
          "model_module": "@jupyter-widgets/base",
          "model_name": "LayoutModel",
          "model_module_version": "1.2.0",
          "state": {
            "_model_module": "@jupyter-widgets/base",
            "_model_module_version": "1.2.0",
            "_model_name": "LayoutModel",
            "_view_count": null,
            "_view_module": "@jupyter-widgets/base",
            "_view_module_version": "1.2.0",
            "_view_name": "LayoutView",
            "align_content": null,
            "align_items": null,
            "align_self": null,
            "border": null,
            "bottom": null,
            "display": null,
            "flex": null,
            "flex_flow": null,
            "grid_area": null,
            "grid_auto_columns": null,
            "grid_auto_flow": null,
            "grid_auto_rows": null,
            "grid_column": null,
            "grid_gap": null,
            "grid_row": null,
            "grid_template_areas": null,
            "grid_template_columns": null,
            "grid_template_rows": null,
            "height": null,
            "justify_content": null,
            "justify_items": null,
            "left": null,
            "margin": null,
            "max_height": null,
            "max_width": null,
            "min_height": null,
            "min_width": null,
            "object_fit": null,
            "object_position": null,
            "order": null,
            "overflow": null,
            "overflow_x": null,
            "overflow_y": null,
            "padding": null,
            "right": null,
            "top": null,
            "visibility": null,
            "width": null
          }
        },
        "e58b13a234c94247a967cbbff0b9b3b1": {
          "model_module": "@jupyter-widgets/base",
          "model_name": "LayoutModel",
          "model_module_version": "1.2.0",
          "state": {
            "_model_module": "@jupyter-widgets/base",
            "_model_module_version": "1.2.0",
            "_model_name": "LayoutModel",
            "_view_count": null,
            "_view_module": "@jupyter-widgets/base",
            "_view_module_version": "1.2.0",
            "_view_name": "LayoutView",
            "align_content": null,
            "align_items": null,
            "align_self": null,
            "border": null,
            "bottom": null,
            "display": null,
            "flex": null,
            "flex_flow": null,
            "grid_area": null,
            "grid_auto_columns": null,
            "grid_auto_flow": null,
            "grid_auto_rows": null,
            "grid_column": null,
            "grid_gap": null,
            "grid_row": null,
            "grid_template_areas": null,
            "grid_template_columns": null,
            "grid_template_rows": null,
            "height": null,
            "justify_content": null,
            "justify_items": null,
            "left": null,
            "margin": null,
            "max_height": null,
            "max_width": null,
            "min_height": null,
            "min_width": null,
            "object_fit": null,
            "object_position": null,
            "order": null,
            "overflow": null,
            "overflow_x": null,
            "overflow_y": null,
            "padding": null,
            "right": null,
            "top": null,
            "visibility": null,
            "width": null
          }
        },
        "312bf1ba5d394def9429830cc3923e58": {
          "model_module": "@jupyter-widgets/controls",
          "model_name": "DescriptionStyleModel",
          "model_module_version": "1.5.0",
          "state": {
            "_model_module": "@jupyter-widgets/controls",
            "_model_module_version": "1.5.0",
            "_model_name": "DescriptionStyleModel",
            "_view_count": null,
            "_view_module": "@jupyter-widgets/base",
            "_view_module_version": "1.2.0",
            "_view_name": "StyleView",
            "description_width": ""
          }
        },
        "ebb9a8eedc4b4dabab68f199e641b122": {
          "model_module": "@jupyter-widgets/base",
          "model_name": "LayoutModel",
          "model_module_version": "1.2.0",
          "state": {
            "_model_module": "@jupyter-widgets/base",
            "_model_module_version": "1.2.0",
            "_model_name": "LayoutModel",
            "_view_count": null,
            "_view_module": "@jupyter-widgets/base",
            "_view_module_version": "1.2.0",
            "_view_name": "LayoutView",
            "align_content": null,
            "align_items": null,
            "align_self": null,
            "border": null,
            "bottom": null,
            "display": null,
            "flex": null,
            "flex_flow": null,
            "grid_area": null,
            "grid_auto_columns": null,
            "grid_auto_flow": null,
            "grid_auto_rows": null,
            "grid_column": null,
            "grid_gap": null,
            "grid_row": null,
            "grid_template_areas": null,
            "grid_template_columns": null,
            "grid_template_rows": null,
            "height": null,
            "justify_content": null,
            "justify_items": null,
            "left": null,
            "margin": null,
            "max_height": null,
            "max_width": null,
            "min_height": null,
            "min_width": null,
            "object_fit": null,
            "object_position": null,
            "order": null,
            "overflow": null,
            "overflow_x": null,
            "overflow_y": null,
            "padding": null,
            "right": null,
            "top": null,
            "visibility": null,
            "width": null
          }
        },
        "132371b65003485a9f2c59ac40699c86": {
          "model_module": "@jupyter-widgets/controls",
          "model_name": "ProgressStyleModel",
          "model_module_version": "1.5.0",
          "state": {
            "_model_module": "@jupyter-widgets/controls",
            "_model_module_version": "1.5.0",
            "_model_name": "ProgressStyleModel",
            "_view_count": null,
            "_view_module": "@jupyter-widgets/base",
            "_view_module_version": "1.2.0",
            "_view_name": "StyleView",
            "bar_color": null,
            "description_width": ""
          }
        },
        "a81297d129d6463abdbe7e7e2c897d6a": {
          "model_module": "@jupyter-widgets/base",
          "model_name": "LayoutModel",
          "model_module_version": "1.2.0",
          "state": {
            "_model_module": "@jupyter-widgets/base",
            "_model_module_version": "1.2.0",
            "_model_name": "LayoutModel",
            "_view_count": null,
            "_view_module": "@jupyter-widgets/base",
            "_view_module_version": "1.2.0",
            "_view_name": "LayoutView",
            "align_content": null,
            "align_items": null,
            "align_self": null,
            "border": null,
            "bottom": null,
            "display": null,
            "flex": null,
            "flex_flow": null,
            "grid_area": null,
            "grid_auto_columns": null,
            "grid_auto_flow": null,
            "grid_auto_rows": null,
            "grid_column": null,
            "grid_gap": null,
            "grid_row": null,
            "grid_template_areas": null,
            "grid_template_columns": null,
            "grid_template_rows": null,
            "height": null,
            "justify_content": null,
            "justify_items": null,
            "left": null,
            "margin": null,
            "max_height": null,
            "max_width": null,
            "min_height": null,
            "min_width": null,
            "object_fit": null,
            "object_position": null,
            "order": null,
            "overflow": null,
            "overflow_x": null,
            "overflow_y": null,
            "padding": null,
            "right": null,
            "top": null,
            "visibility": null,
            "width": null
          }
        },
        "07bcf028b47946708959c89e9e3933e2": {
          "model_module": "@jupyter-widgets/controls",
          "model_name": "DescriptionStyleModel",
          "model_module_version": "1.5.0",
          "state": {
            "_model_module": "@jupyter-widgets/controls",
            "_model_module_version": "1.5.0",
            "_model_name": "DescriptionStyleModel",
            "_view_count": null,
            "_view_module": "@jupyter-widgets/base",
            "_view_module_version": "1.2.0",
            "_view_name": "StyleView",
            "description_width": ""
          }
        },
        "9f698002914e4919938573de1e8f3ad6": {
          "model_module": "@jupyter-widgets/controls",
          "model_name": "HBoxModel",
          "model_module_version": "1.5.0",
          "state": {
            "_dom_classes": [],
            "_model_module": "@jupyter-widgets/controls",
            "_model_module_version": "1.5.0",
            "_model_name": "HBoxModel",
            "_view_count": null,
            "_view_module": "@jupyter-widgets/controls",
            "_view_module_version": "1.5.0",
            "_view_name": "HBoxView",
            "box_style": "",
            "children": [
              "IPY_MODEL_e877a4f6b3ed4018a9e348cac40d0f4d",
              "IPY_MODEL_c3c5fc477e9749c6b1bdfb2b8c26b92d",
              "IPY_MODEL_17ec46ad56e349ac980b67b80b97fe04"
            ],
            "layout": "IPY_MODEL_9039009bbb5c41dfb134561a099453a8"
          }
        },
        "e877a4f6b3ed4018a9e348cac40d0f4d": {
          "model_module": "@jupyter-widgets/controls",
          "model_name": "HTMLModel",
          "model_module_version": "1.5.0",
          "state": {
            "_dom_classes": [],
            "_model_module": "@jupyter-widgets/controls",
            "_model_module_version": "1.5.0",
            "_model_name": "HTMLModel",
            "_view_count": null,
            "_view_module": "@jupyter-widgets/controls",
            "_view_module_version": "1.5.0",
            "_view_name": "HTMLView",
            "description": "",
            "description_tooltip": null,
            "layout": "IPY_MODEL_f93d9bfb192144c69c26223dc1c323f7",
            "placeholder": "​",
            "style": "IPY_MODEL_f72a511badbd452a98b7084ce8fd2cbb",
            "value": "Downloading: 100%"
          }
        },
        "c3c5fc477e9749c6b1bdfb2b8c26b92d": {
          "model_module": "@jupyter-widgets/controls",
          "model_name": "FloatProgressModel",
          "model_module_version": "1.5.0",
          "state": {
            "_dom_classes": [],
            "_model_module": "@jupyter-widgets/controls",
            "_model_module_version": "1.5.0",
            "_model_name": "FloatProgressModel",
            "_view_count": null,
            "_view_module": "@jupyter-widgets/controls",
            "_view_module_version": "1.5.0",
            "_view_name": "ProgressView",
            "bar_style": "success",
            "description": "",
            "description_tooltip": null,
            "layout": "IPY_MODEL_4aee8fdc81f641dab7db0a484234a3f2",
            "max": 213450,
            "min": 0,
            "orientation": "horizontal",
            "style": "IPY_MODEL_a292ca7cb3d940329b6077524d006f7c",
            "value": 213450
          }
        },
        "17ec46ad56e349ac980b67b80b97fe04": {
          "model_module": "@jupyter-widgets/controls",
          "model_name": "HTMLModel",
          "model_module_version": "1.5.0",
          "state": {
            "_dom_classes": [],
            "_model_module": "@jupyter-widgets/controls",
            "_model_module_version": "1.5.0",
            "_model_name": "HTMLModel",
            "_view_count": null,
            "_view_module": "@jupyter-widgets/controls",
            "_view_module_version": "1.5.0",
            "_view_name": "HTMLView",
            "description": "",
            "description_tooltip": null,
            "layout": "IPY_MODEL_6c61bb77e3c44f7d8b572f91eced6b71",
            "placeholder": "​",
            "style": "IPY_MODEL_13dd2406618645929a27df5b8dc99f83",
            "value": " 213k/213k [00:00&lt;00:00, 1.55MB/s]"
          }
        },
        "9039009bbb5c41dfb134561a099453a8": {
          "model_module": "@jupyter-widgets/base",
          "model_name": "LayoutModel",
          "model_module_version": "1.2.0",
          "state": {
            "_model_module": "@jupyter-widgets/base",
            "_model_module_version": "1.2.0",
            "_model_name": "LayoutModel",
            "_view_count": null,
            "_view_module": "@jupyter-widgets/base",
            "_view_module_version": "1.2.0",
            "_view_name": "LayoutView",
            "align_content": null,
            "align_items": null,
            "align_self": null,
            "border": null,
            "bottom": null,
            "display": null,
            "flex": null,
            "flex_flow": null,
            "grid_area": null,
            "grid_auto_columns": null,
            "grid_auto_flow": null,
            "grid_auto_rows": null,
            "grid_column": null,
            "grid_gap": null,
            "grid_row": null,
            "grid_template_areas": null,
            "grid_template_columns": null,
            "grid_template_rows": null,
            "height": null,
            "justify_content": null,
            "justify_items": null,
            "left": null,
            "margin": null,
            "max_height": null,
            "max_width": null,
            "min_height": null,
            "min_width": null,
            "object_fit": null,
            "object_position": null,
            "order": null,
            "overflow": null,
            "overflow_x": null,
            "overflow_y": null,
            "padding": null,
            "right": null,
            "top": null,
            "visibility": null,
            "width": null
          }
        },
        "f93d9bfb192144c69c26223dc1c323f7": {
          "model_module": "@jupyter-widgets/base",
          "model_name": "LayoutModel",
          "model_module_version": "1.2.0",
          "state": {
            "_model_module": "@jupyter-widgets/base",
            "_model_module_version": "1.2.0",
            "_model_name": "LayoutModel",
            "_view_count": null,
            "_view_module": "@jupyter-widgets/base",
            "_view_module_version": "1.2.0",
            "_view_name": "LayoutView",
            "align_content": null,
            "align_items": null,
            "align_self": null,
            "border": null,
            "bottom": null,
            "display": null,
            "flex": null,
            "flex_flow": null,
            "grid_area": null,
            "grid_auto_columns": null,
            "grid_auto_flow": null,
            "grid_auto_rows": null,
            "grid_column": null,
            "grid_gap": null,
            "grid_row": null,
            "grid_template_areas": null,
            "grid_template_columns": null,
            "grid_template_rows": null,
            "height": null,
            "justify_content": null,
            "justify_items": null,
            "left": null,
            "margin": null,
            "max_height": null,
            "max_width": null,
            "min_height": null,
            "min_width": null,
            "object_fit": null,
            "object_position": null,
            "order": null,
            "overflow": null,
            "overflow_x": null,
            "overflow_y": null,
            "padding": null,
            "right": null,
            "top": null,
            "visibility": null,
            "width": null
          }
        },
        "f72a511badbd452a98b7084ce8fd2cbb": {
          "model_module": "@jupyter-widgets/controls",
          "model_name": "DescriptionStyleModel",
          "model_module_version": "1.5.0",
          "state": {
            "_model_module": "@jupyter-widgets/controls",
            "_model_module_version": "1.5.0",
            "_model_name": "DescriptionStyleModel",
            "_view_count": null,
            "_view_module": "@jupyter-widgets/base",
            "_view_module_version": "1.2.0",
            "_view_name": "StyleView",
            "description_width": ""
          }
        },
        "4aee8fdc81f641dab7db0a484234a3f2": {
          "model_module": "@jupyter-widgets/base",
          "model_name": "LayoutModel",
          "model_module_version": "1.2.0",
          "state": {
            "_model_module": "@jupyter-widgets/base",
            "_model_module_version": "1.2.0",
            "_model_name": "LayoutModel",
            "_view_count": null,
            "_view_module": "@jupyter-widgets/base",
            "_view_module_version": "1.2.0",
            "_view_name": "LayoutView",
            "align_content": null,
            "align_items": null,
            "align_self": null,
            "border": null,
            "bottom": null,
            "display": null,
            "flex": null,
            "flex_flow": null,
            "grid_area": null,
            "grid_auto_columns": null,
            "grid_auto_flow": null,
            "grid_auto_rows": null,
            "grid_column": null,
            "grid_gap": null,
            "grid_row": null,
            "grid_template_areas": null,
            "grid_template_columns": null,
            "grid_template_rows": null,
            "height": null,
            "justify_content": null,
            "justify_items": null,
            "left": null,
            "margin": null,
            "max_height": null,
            "max_width": null,
            "min_height": null,
            "min_width": null,
            "object_fit": null,
            "object_position": null,
            "order": null,
            "overflow": null,
            "overflow_x": null,
            "overflow_y": null,
            "padding": null,
            "right": null,
            "top": null,
            "visibility": null,
            "width": null
          }
        },
        "a292ca7cb3d940329b6077524d006f7c": {
          "model_module": "@jupyter-widgets/controls",
          "model_name": "ProgressStyleModel",
          "model_module_version": "1.5.0",
          "state": {
            "_model_module": "@jupyter-widgets/controls",
            "_model_module_version": "1.5.0",
            "_model_name": "ProgressStyleModel",
            "_view_count": null,
            "_view_module": "@jupyter-widgets/base",
            "_view_module_version": "1.2.0",
            "_view_name": "StyleView",
            "bar_color": null,
            "description_width": ""
          }
        },
        "6c61bb77e3c44f7d8b572f91eced6b71": {
          "model_module": "@jupyter-widgets/base",
          "model_name": "LayoutModel",
          "model_module_version": "1.2.0",
          "state": {
            "_model_module": "@jupyter-widgets/base",
            "_model_module_version": "1.2.0",
            "_model_name": "LayoutModel",
            "_view_count": null,
            "_view_module": "@jupyter-widgets/base",
            "_view_module_version": "1.2.0",
            "_view_name": "LayoutView",
            "align_content": null,
            "align_items": null,
            "align_self": null,
            "border": null,
            "bottom": null,
            "display": null,
            "flex": null,
            "flex_flow": null,
            "grid_area": null,
            "grid_auto_columns": null,
            "grid_auto_flow": null,
            "grid_auto_rows": null,
            "grid_column": null,
            "grid_gap": null,
            "grid_row": null,
            "grid_template_areas": null,
            "grid_template_columns": null,
            "grid_template_rows": null,
            "height": null,
            "justify_content": null,
            "justify_items": null,
            "left": null,
            "margin": null,
            "max_height": null,
            "max_width": null,
            "min_height": null,
            "min_width": null,
            "object_fit": null,
            "object_position": null,
            "order": null,
            "overflow": null,
            "overflow_x": null,
            "overflow_y": null,
            "padding": null,
            "right": null,
            "top": null,
            "visibility": null,
            "width": null
          }
        },
        "13dd2406618645929a27df5b8dc99f83": {
          "model_module": "@jupyter-widgets/controls",
          "model_name": "DescriptionStyleModel",
          "model_module_version": "1.5.0",
          "state": {
            "_model_module": "@jupyter-widgets/controls",
            "_model_module_version": "1.5.0",
            "_model_name": "DescriptionStyleModel",
            "_view_count": null,
            "_view_module": "@jupyter-widgets/base",
            "_view_module_version": "1.2.0",
            "_view_name": "StyleView",
            "description_width": ""
          }
        },
        "49266e5c2f3e41a6aeb9807c6f099772": {
          "model_module": "@jupyter-widgets/controls",
          "model_name": "HBoxModel",
          "model_module_version": "1.5.0",
          "state": {
            "_dom_classes": [],
            "_model_module": "@jupyter-widgets/controls",
            "_model_module_version": "1.5.0",
            "_model_name": "HBoxModel",
            "_view_count": null,
            "_view_module": "@jupyter-widgets/controls",
            "_view_module_version": "1.5.0",
            "_view_name": "HBoxView",
            "box_style": "",
            "children": [
              "IPY_MODEL_15d1ff400dbb40199e8f634463830015",
              "IPY_MODEL_d0dc5cf5a9f148b9b8647a0e4132c1d5",
              "IPY_MODEL_488f414cdd954bf08d5020b897f5efcb"
            ],
            "layout": "IPY_MODEL_7a4e6af2132e4f578c085f0ca0ff933f"
          }
        },
        "15d1ff400dbb40199e8f634463830015": {
          "model_module": "@jupyter-widgets/controls",
          "model_name": "HTMLModel",
          "model_module_version": "1.5.0",
          "state": {
            "_dom_classes": [],
            "_model_module": "@jupyter-widgets/controls",
            "_model_module_version": "1.5.0",
            "_model_name": "HTMLModel",
            "_view_count": null,
            "_view_module": "@jupyter-widgets/controls",
            "_view_module_version": "1.5.0",
            "_view_name": "HTMLView",
            "description": "",
            "description_tooltip": null,
            "layout": "IPY_MODEL_c865c126451a40048d568e9ea3725870",
            "placeholder": "​",
            "style": "IPY_MODEL_17305d5c403b4285bbb6df982167c5f2",
            "value": "Downloading: 100%"
          }
        },
        "d0dc5cf5a9f148b9b8647a0e4132c1d5": {
          "model_module": "@jupyter-widgets/controls",
          "model_name": "FloatProgressModel",
          "model_module_version": "1.5.0",
          "state": {
            "_dom_classes": [],
            "_model_module": "@jupyter-widgets/controls",
            "_model_module_version": "1.5.0",
            "_model_name": "FloatProgressModel",
            "_view_count": null,
            "_view_module": "@jupyter-widgets/controls",
            "_view_module_version": "1.5.0",
            "_view_name": "ProgressView",
            "bar_style": "success",
            "description": "",
            "description_tooltip": null,
            "layout": "IPY_MODEL_2f54bae5d68949af9379ecc9c65851f4",
            "max": 435797,
            "min": 0,
            "orientation": "horizontal",
            "style": "IPY_MODEL_c375a36fdb864f2dbc3a42e74b775472",
            "value": 435797
          }
        },
        "488f414cdd954bf08d5020b897f5efcb": {
          "model_module": "@jupyter-widgets/controls",
          "model_name": "HTMLModel",
          "model_module_version": "1.5.0",
          "state": {
            "_dom_classes": [],
            "_model_module": "@jupyter-widgets/controls",
            "_model_module_version": "1.5.0",
            "_model_name": "HTMLModel",
            "_view_count": null,
            "_view_module": "@jupyter-widgets/controls",
            "_view_module_version": "1.5.0",
            "_view_name": "HTMLView",
            "description": "",
            "description_tooltip": null,
            "layout": "IPY_MODEL_26e5b8bc5ca343139cf1ab1bb973690d",
            "placeholder": "​",
            "style": "IPY_MODEL_1a20102a25f44c9d9b672b8045b4d6fd",
            "value": " 436k/436k [00:00&lt;00:00, 1.78MB/s]"
          }
        },
        "7a4e6af2132e4f578c085f0ca0ff933f": {
          "model_module": "@jupyter-widgets/base",
          "model_name": "LayoutModel",
          "model_module_version": "1.2.0",
          "state": {
            "_model_module": "@jupyter-widgets/base",
            "_model_module_version": "1.2.0",
            "_model_name": "LayoutModel",
            "_view_count": null,
            "_view_module": "@jupyter-widgets/base",
            "_view_module_version": "1.2.0",
            "_view_name": "LayoutView",
            "align_content": null,
            "align_items": null,
            "align_self": null,
            "border": null,
            "bottom": null,
            "display": null,
            "flex": null,
            "flex_flow": null,
            "grid_area": null,
            "grid_auto_columns": null,
            "grid_auto_flow": null,
            "grid_auto_rows": null,
            "grid_column": null,
            "grid_gap": null,
            "grid_row": null,
            "grid_template_areas": null,
            "grid_template_columns": null,
            "grid_template_rows": null,
            "height": null,
            "justify_content": null,
            "justify_items": null,
            "left": null,
            "margin": null,
            "max_height": null,
            "max_width": null,
            "min_height": null,
            "min_width": null,
            "object_fit": null,
            "object_position": null,
            "order": null,
            "overflow": null,
            "overflow_x": null,
            "overflow_y": null,
            "padding": null,
            "right": null,
            "top": null,
            "visibility": null,
            "width": null
          }
        },
        "c865c126451a40048d568e9ea3725870": {
          "model_module": "@jupyter-widgets/base",
          "model_name": "LayoutModel",
          "model_module_version": "1.2.0",
          "state": {
            "_model_module": "@jupyter-widgets/base",
            "_model_module_version": "1.2.0",
            "_model_name": "LayoutModel",
            "_view_count": null,
            "_view_module": "@jupyter-widgets/base",
            "_view_module_version": "1.2.0",
            "_view_name": "LayoutView",
            "align_content": null,
            "align_items": null,
            "align_self": null,
            "border": null,
            "bottom": null,
            "display": null,
            "flex": null,
            "flex_flow": null,
            "grid_area": null,
            "grid_auto_columns": null,
            "grid_auto_flow": null,
            "grid_auto_rows": null,
            "grid_column": null,
            "grid_gap": null,
            "grid_row": null,
            "grid_template_areas": null,
            "grid_template_columns": null,
            "grid_template_rows": null,
            "height": null,
            "justify_content": null,
            "justify_items": null,
            "left": null,
            "margin": null,
            "max_height": null,
            "max_width": null,
            "min_height": null,
            "min_width": null,
            "object_fit": null,
            "object_position": null,
            "order": null,
            "overflow": null,
            "overflow_x": null,
            "overflow_y": null,
            "padding": null,
            "right": null,
            "top": null,
            "visibility": null,
            "width": null
          }
        },
        "17305d5c403b4285bbb6df982167c5f2": {
          "model_module": "@jupyter-widgets/controls",
          "model_name": "DescriptionStyleModel",
          "model_module_version": "1.5.0",
          "state": {
            "_model_module": "@jupyter-widgets/controls",
            "_model_module_version": "1.5.0",
            "_model_name": "DescriptionStyleModel",
            "_view_count": null,
            "_view_module": "@jupyter-widgets/base",
            "_view_module_version": "1.2.0",
            "_view_name": "StyleView",
            "description_width": ""
          }
        },
        "2f54bae5d68949af9379ecc9c65851f4": {
          "model_module": "@jupyter-widgets/base",
          "model_name": "LayoutModel",
          "model_module_version": "1.2.0",
          "state": {
            "_model_module": "@jupyter-widgets/base",
            "_model_module_version": "1.2.0",
            "_model_name": "LayoutModel",
            "_view_count": null,
            "_view_module": "@jupyter-widgets/base",
            "_view_module_version": "1.2.0",
            "_view_name": "LayoutView",
            "align_content": null,
            "align_items": null,
            "align_self": null,
            "border": null,
            "bottom": null,
            "display": null,
            "flex": null,
            "flex_flow": null,
            "grid_area": null,
            "grid_auto_columns": null,
            "grid_auto_flow": null,
            "grid_auto_rows": null,
            "grid_column": null,
            "grid_gap": null,
            "grid_row": null,
            "grid_template_areas": null,
            "grid_template_columns": null,
            "grid_template_rows": null,
            "height": null,
            "justify_content": null,
            "justify_items": null,
            "left": null,
            "margin": null,
            "max_height": null,
            "max_width": null,
            "min_height": null,
            "min_width": null,
            "object_fit": null,
            "object_position": null,
            "order": null,
            "overflow": null,
            "overflow_x": null,
            "overflow_y": null,
            "padding": null,
            "right": null,
            "top": null,
            "visibility": null,
            "width": null
          }
        },
        "c375a36fdb864f2dbc3a42e74b775472": {
          "model_module": "@jupyter-widgets/controls",
          "model_name": "ProgressStyleModel",
          "model_module_version": "1.5.0",
          "state": {
            "_model_module": "@jupyter-widgets/controls",
            "_model_module_version": "1.5.0",
            "_model_name": "ProgressStyleModel",
            "_view_count": null,
            "_view_module": "@jupyter-widgets/base",
            "_view_module_version": "1.2.0",
            "_view_name": "StyleView",
            "bar_color": null,
            "description_width": ""
          }
        },
        "26e5b8bc5ca343139cf1ab1bb973690d": {
          "model_module": "@jupyter-widgets/base",
          "model_name": "LayoutModel",
          "model_module_version": "1.2.0",
          "state": {
            "_model_module": "@jupyter-widgets/base",
            "_model_module_version": "1.2.0",
            "_model_name": "LayoutModel",
            "_view_count": null,
            "_view_module": "@jupyter-widgets/base",
            "_view_module_version": "1.2.0",
            "_view_name": "LayoutView",
            "align_content": null,
            "align_items": null,
            "align_self": null,
            "border": null,
            "bottom": null,
            "display": null,
            "flex": null,
            "flex_flow": null,
            "grid_area": null,
            "grid_auto_columns": null,
            "grid_auto_flow": null,
            "grid_auto_rows": null,
            "grid_column": null,
            "grid_gap": null,
            "grid_row": null,
            "grid_template_areas": null,
            "grid_template_columns": null,
            "grid_template_rows": null,
            "height": null,
            "justify_content": null,
            "justify_items": null,
            "left": null,
            "margin": null,
            "max_height": null,
            "max_width": null,
            "min_height": null,
            "min_width": null,
            "object_fit": null,
            "object_position": null,
            "order": null,
            "overflow": null,
            "overflow_x": null,
            "overflow_y": null,
            "padding": null,
            "right": null,
            "top": null,
            "visibility": null,
            "width": null
          }
        },
        "1a20102a25f44c9d9b672b8045b4d6fd": {
          "model_module": "@jupyter-widgets/controls",
          "model_name": "DescriptionStyleModel",
          "model_module_version": "1.5.0",
          "state": {
            "_model_module": "@jupyter-widgets/controls",
            "_model_module_version": "1.5.0",
            "_model_name": "DescriptionStyleModel",
            "_view_count": null,
            "_view_module": "@jupyter-widgets/base",
            "_view_module_version": "1.2.0",
            "_view_name": "StyleView",
            "description_width": ""
          }
        },
        "b163a0c2d9b54587ad4b513d7eef9b95": {
          "model_module": "@jupyter-widgets/controls",
          "model_name": "HBoxModel",
          "model_module_version": "1.5.0",
          "state": {
            "_dom_classes": [],
            "_model_module": "@jupyter-widgets/controls",
            "_model_module_version": "1.5.0",
            "_model_name": "HBoxModel",
            "_view_count": null,
            "_view_module": "@jupyter-widgets/controls",
            "_view_module_version": "1.5.0",
            "_view_name": "HBoxView",
            "box_style": "",
            "children": [
              "IPY_MODEL_c5d14a4e49534770be8781a63ac9f138",
              "IPY_MODEL_8f82189d6e4c4a4daefbe5dbd7ff9967",
              "IPY_MODEL_c710ada50aa548629ab13870a50d6aa1"
            ],
            "layout": "IPY_MODEL_038aa34b77524138a5cfa9b2bf96d793"
          }
        },
        "c5d14a4e49534770be8781a63ac9f138": {
          "model_module": "@jupyter-widgets/controls",
          "model_name": "HTMLModel",
          "model_module_version": "1.5.0",
          "state": {
            "_dom_classes": [],
            "_model_module": "@jupyter-widgets/controls",
            "_model_module_version": "1.5.0",
            "_model_name": "HTMLModel",
            "_view_count": null,
            "_view_module": "@jupyter-widgets/controls",
            "_view_module_version": "1.5.0",
            "_view_name": "HTMLView",
            "description": "",
            "description_tooltip": null,
            "layout": "IPY_MODEL_c533ea4521894e16a880337c2a9fd2fa",
            "placeholder": "​",
            "style": "IPY_MODEL_b35cf8032538455e8dc22c59ace17be8",
            "value": "Downloading: 100%"
          }
        },
        "8f82189d6e4c4a4daefbe5dbd7ff9967": {
          "model_module": "@jupyter-widgets/controls",
          "model_name": "FloatProgressModel",
          "model_module_version": "1.5.0",
          "state": {
            "_dom_classes": [],
            "_model_module": "@jupyter-widgets/controls",
            "_model_module_version": "1.5.0",
            "_model_name": "FloatProgressModel",
            "_view_count": null,
            "_view_module": "@jupyter-widgets/controls",
            "_view_module_version": "1.5.0",
            "_view_name": "ProgressView",
            "bar_style": "success",
            "description": "",
            "description_tooltip": null,
            "layout": "IPY_MODEL_9d7b849057e44e00933ffad3272abe51",
            "max": 526681800,
            "min": 0,
            "orientation": "horizontal",
            "style": "IPY_MODEL_2d05ada7ab8049fe9d9db254c7a16c24",
            "value": 526681800
          }
        },
        "c710ada50aa548629ab13870a50d6aa1": {
          "model_module": "@jupyter-widgets/controls",
          "model_name": "HTMLModel",
          "model_module_version": "1.5.0",
          "state": {
            "_dom_classes": [],
            "_model_module": "@jupyter-widgets/controls",
            "_model_module_version": "1.5.0",
            "_model_name": "HTMLModel",
            "_view_count": null,
            "_view_module": "@jupyter-widgets/controls",
            "_view_module_version": "1.5.0",
            "_view_name": "HTMLView",
            "description": "",
            "description_tooltip": null,
            "layout": "IPY_MODEL_953b67fb80574d3285d0f24bdce86790",
            "placeholder": "​",
            "style": "IPY_MODEL_00cf888d07d34191a46c224705b36de1",
            "value": " 527M/527M [00:17&lt;00:00, 20.6MB/s]"
          }
        },
        "038aa34b77524138a5cfa9b2bf96d793": {
          "model_module": "@jupyter-widgets/base",
          "model_name": "LayoutModel",
          "model_module_version": "1.2.0",
          "state": {
            "_model_module": "@jupyter-widgets/base",
            "_model_module_version": "1.2.0",
            "_model_name": "LayoutModel",
            "_view_count": null,
            "_view_module": "@jupyter-widgets/base",
            "_view_module_version": "1.2.0",
            "_view_name": "LayoutView",
            "align_content": null,
            "align_items": null,
            "align_self": null,
            "border": null,
            "bottom": null,
            "display": null,
            "flex": null,
            "flex_flow": null,
            "grid_area": null,
            "grid_auto_columns": null,
            "grid_auto_flow": null,
            "grid_auto_rows": null,
            "grid_column": null,
            "grid_gap": null,
            "grid_row": null,
            "grid_template_areas": null,
            "grid_template_columns": null,
            "grid_template_rows": null,
            "height": null,
            "justify_content": null,
            "justify_items": null,
            "left": null,
            "margin": null,
            "max_height": null,
            "max_width": null,
            "min_height": null,
            "min_width": null,
            "object_fit": null,
            "object_position": null,
            "order": null,
            "overflow": null,
            "overflow_x": null,
            "overflow_y": null,
            "padding": null,
            "right": null,
            "top": null,
            "visibility": null,
            "width": null
          }
        },
        "c533ea4521894e16a880337c2a9fd2fa": {
          "model_module": "@jupyter-widgets/base",
          "model_name": "LayoutModel",
          "model_module_version": "1.2.0",
          "state": {
            "_model_module": "@jupyter-widgets/base",
            "_model_module_version": "1.2.0",
            "_model_name": "LayoutModel",
            "_view_count": null,
            "_view_module": "@jupyter-widgets/base",
            "_view_module_version": "1.2.0",
            "_view_name": "LayoutView",
            "align_content": null,
            "align_items": null,
            "align_self": null,
            "border": null,
            "bottom": null,
            "display": null,
            "flex": null,
            "flex_flow": null,
            "grid_area": null,
            "grid_auto_columns": null,
            "grid_auto_flow": null,
            "grid_auto_rows": null,
            "grid_column": null,
            "grid_gap": null,
            "grid_row": null,
            "grid_template_areas": null,
            "grid_template_columns": null,
            "grid_template_rows": null,
            "height": null,
            "justify_content": null,
            "justify_items": null,
            "left": null,
            "margin": null,
            "max_height": null,
            "max_width": null,
            "min_height": null,
            "min_width": null,
            "object_fit": null,
            "object_position": null,
            "order": null,
            "overflow": null,
            "overflow_x": null,
            "overflow_y": null,
            "padding": null,
            "right": null,
            "top": null,
            "visibility": null,
            "width": null
          }
        },
        "b35cf8032538455e8dc22c59ace17be8": {
          "model_module": "@jupyter-widgets/controls",
          "model_name": "DescriptionStyleModel",
          "model_module_version": "1.5.0",
          "state": {
            "_model_module": "@jupyter-widgets/controls",
            "_model_module_version": "1.5.0",
            "_model_name": "DescriptionStyleModel",
            "_view_count": null,
            "_view_module": "@jupyter-widgets/base",
            "_view_module_version": "1.2.0",
            "_view_name": "StyleView",
            "description_width": ""
          }
        },
        "9d7b849057e44e00933ffad3272abe51": {
          "model_module": "@jupyter-widgets/base",
          "model_name": "LayoutModel",
          "model_module_version": "1.2.0",
          "state": {
            "_model_module": "@jupyter-widgets/base",
            "_model_module_version": "1.2.0",
            "_model_name": "LayoutModel",
            "_view_count": null,
            "_view_module": "@jupyter-widgets/base",
            "_view_module_version": "1.2.0",
            "_view_name": "LayoutView",
            "align_content": null,
            "align_items": null,
            "align_self": null,
            "border": null,
            "bottom": null,
            "display": null,
            "flex": null,
            "flex_flow": null,
            "grid_area": null,
            "grid_auto_columns": null,
            "grid_auto_flow": null,
            "grid_auto_rows": null,
            "grid_column": null,
            "grid_gap": null,
            "grid_row": null,
            "grid_template_areas": null,
            "grid_template_columns": null,
            "grid_template_rows": null,
            "height": null,
            "justify_content": null,
            "justify_items": null,
            "left": null,
            "margin": null,
            "max_height": null,
            "max_width": null,
            "min_height": null,
            "min_width": null,
            "object_fit": null,
            "object_position": null,
            "order": null,
            "overflow": null,
            "overflow_x": null,
            "overflow_y": null,
            "padding": null,
            "right": null,
            "top": null,
            "visibility": null,
            "width": null
          }
        },
        "2d05ada7ab8049fe9d9db254c7a16c24": {
          "model_module": "@jupyter-widgets/controls",
          "model_name": "ProgressStyleModel",
          "model_module_version": "1.5.0",
          "state": {
            "_model_module": "@jupyter-widgets/controls",
            "_model_module_version": "1.5.0",
            "_model_name": "ProgressStyleModel",
            "_view_count": null,
            "_view_module": "@jupyter-widgets/base",
            "_view_module_version": "1.2.0",
            "_view_name": "StyleView",
            "bar_color": null,
            "description_width": ""
          }
        },
        "953b67fb80574d3285d0f24bdce86790": {
          "model_module": "@jupyter-widgets/base",
          "model_name": "LayoutModel",
          "model_module_version": "1.2.0",
          "state": {
            "_model_module": "@jupyter-widgets/base",
            "_model_module_version": "1.2.0",
            "_model_name": "LayoutModel",
            "_view_count": null,
            "_view_module": "@jupyter-widgets/base",
            "_view_module_version": "1.2.0",
            "_view_name": "LayoutView",
            "align_content": null,
            "align_items": null,
            "align_self": null,
            "border": null,
            "bottom": null,
            "display": null,
            "flex": null,
            "flex_flow": null,
            "grid_area": null,
            "grid_auto_columns": null,
            "grid_auto_flow": null,
            "grid_auto_rows": null,
            "grid_column": null,
            "grid_gap": null,
            "grid_row": null,
            "grid_template_areas": null,
            "grid_template_columns": null,
            "grid_template_rows": null,
            "height": null,
            "justify_content": null,
            "justify_items": null,
            "left": null,
            "margin": null,
            "max_height": null,
            "max_width": null,
            "min_height": null,
            "min_width": null,
            "object_fit": null,
            "object_position": null,
            "order": null,
            "overflow": null,
            "overflow_x": null,
            "overflow_y": null,
            "padding": null,
            "right": null,
            "top": null,
            "visibility": null,
            "width": null
          }
        },
        "00cf888d07d34191a46c224705b36de1": {
          "model_module": "@jupyter-widgets/controls",
          "model_name": "DescriptionStyleModel",
          "model_module_version": "1.5.0",
          "state": {
            "_model_module": "@jupyter-widgets/controls",
            "_model_module_version": "1.5.0",
            "_model_name": "DescriptionStyleModel",
            "_view_count": null,
            "_view_module": "@jupyter-widgets/base",
            "_view_module_version": "1.2.0",
            "_view_name": "StyleView",
            "description_width": ""
          }
        }
      }
    }
  },
  "cells": [
    {
      "cell_type": "markdown",
      "metadata": {
        "id": "Ycss6qjFk2Zr"
      },
      "source": [
        "# Transformers with TensorFlow\n",
        "\n",
        "The original version of this notebook - https://colab.research.google.com/drive/1er3eOUILQ5MOB2Uzh1lntiDiK92DfvO4?usp=sharing\n",
        "\n"
      ]
    },
    {
      "cell_type": "code",
      "metadata": {
        "id": "PegFaL-dnHot",
        "colab": {
          "base_uri": "https://localhost:8080/"
        },
        "outputId": "3641e0f1-0fe9-4c0f-be3e-fff089c36d1b"
      },
      "source": [
        "!nvidia-smi -L"
      ],
      "execution_count": null,
      "outputs": [
        {
          "output_type": "stream",
          "name": "stdout",
          "text": [
            "GPU 0: Tesla T4 (UUID: GPU-760c813f-3b88-d852-4fbd-8041c5734361)\n"
          ]
        }
      ]
    },
    {
      "cell_type": "code",
      "metadata": {
        "id": "KGmBm2wukbW0",
        "colab": {
          "base_uri": "https://localhost:8080/"
        },
        "outputId": "38762da9-c31d-4504-d67b-1e6eaed3be42"
      },
      "source": [
        "!pip -q install transformers"
      ],
      "execution_count": null,
      "outputs": [
        {
          "output_type": "stream",
          "name": "stdout",
          "text": [
            "\u001b[K     |████████████████████████████████| 5.5 MB 5.1 MB/s \n",
            "\u001b[K     |████████████████████████████████| 182 kB 54.8 MB/s \n",
            "\u001b[K     |████████████████████████████████| 7.6 MB 43.5 MB/s \n",
            "\u001b[?25h"
          ]
        }
      ]
    },
    {
      "cell_type": "code",
      "metadata": {
        "id": "KwYZuVBrBvF4"
      },
      "source": [
        "# 2 Classes \n",
        "!wget -q https://www.dropbox.com/s/ma7aik3z7dbj4gg/meet_reviews_03.csv\n",
        "\n",
        "# 5 class based on the 5 stars - try later\n",
        "# !wget -q https://www.dropbox.com/s/gxjn9yqa6nd3ob1/meet_reviews_02.csv"
      ],
      "execution_count": null,
      "outputs": []
    },
    {
      "cell_type": "markdown",
      "metadata": {
        "id": "FXEqd69S0ASV"
      },
      "source": [
        "2 Main parts:\n",
        "- Tokenizer \n",
        "- Model"
      ]
    },
    {
      "cell_type": "code",
      "metadata": {
        "id": "kvXClO4lkkUG"
      },
      "source": [
        "# imports \n",
        "from transformers import AutoTokenizer, TFAutoModelForSequenceClassification #thTFAutoModelForSequenceClassificationis is a head\n",
        "import tensorflow as tf\n",
        "import pandas as pd\n",
        "import numpy as np"
      ],
      "execution_count": null,
      "outputs": []
    },
    {
      "cell_type": "code",
      "metadata": {
        "id": "WjLv8YIVAIZe",
        "colab": {
          "base_uri": "https://localhost:8080/"
        },
        "outputId": "388a222f-a70f-40bb-9ec4-1f1066ac30ee"
      },
      "source": [
        "ls"
      ],
      "execution_count": null,
      "outputs": [
        {
          "output_type": "stream",
          "name": "stdout",
          "text": [
            "meet_reviews_03.csv  \u001b[0m\u001b[01;34msample_data\u001b[0m/\n"
          ]
        }
      ]
    },
    {
      "cell_type": "markdown",
      "metadata": {
        "id": "5YtIA3xpNtKd"
      },
      "source": [
        "## Load up some App Reviews"
      ]
    },
    {
      "cell_type": "code",
      "metadata": {
        "id": "oaMIG6SyCdHp",
        "colab": {
          "base_uri": "https://localhost:8080/"
        },
        "outputId": "7e611550-93e3-4c42-cb7e-aaf97d162576"
      },
      "source": [
        "# load data into a dataframe\n",
        "df = pd.read_csv('meet_reviews_03.csv', encoding='utf-8', error_bad_lines=False)"
      ],
      "execution_count": null,
      "outputs": [
        {
          "output_type": "stream",
          "name": "stderr",
          "text": [
            "/usr/local/lib/python3.7/dist-packages/IPython/core/interactiveshell.py:3326: FutureWarning: The error_bad_lines argument has been deprecated and will be removed in a future version.\n",
            "\n",
            "\n",
            "  exec(code_obj, self.user_global_ns, self.user_ns)\n"
          ]
        }
      ]
    },
    {
      "cell_type": "code",
      "metadata": {
        "id": "2ZNYZ89IgRjm",
        "colab": {
          "base_uri": "https://localhost:8080/"
        },
        "outputId": "99685267-7aba-4041-bd83-37427db60f5c"
      },
      "source": [
        "# lets look at the shape of the data\n",
        "df.shape"
      ],
      "execution_count": null,
      "outputs": [
        {
          "output_type": "execute_result",
          "data": {
            "text/plain": [
              "(3898, 3)"
            ]
          },
          "metadata": {},
          "execution_count": 8
        }
      ]
    },
    {
      "cell_type": "code",
      "metadata": {
        "id": "VqHT69spSpCb",
        "colab": {
          "base_uri": "https://localhost:8080/",
          "height": 206
        },
        "outputId": "6c7da056-2c92-4c0c-b363-166030c1bea3"
      },
      "source": [
        "\n",
        "df.head()"
      ],
      "execution_count": null,
      "outputs": [
        {
          "output_type": "execute_result",
          "data": {
            "text/plain": [
              "   Unnamed: 0                                            content  score\n",
              "0           0  Firstly i like this app very so much. But afte...      1\n",
              "1           1  The reason behind giving only one star is the ...      1\n",
              "2           2  Although this app is good but still i hate it....      1\n",
              "3           3  Can't access any settings within this app from...      1\n",
              "4           4  I have online classes I can't hear it nicely i...      1"
            ],
            "text/html": [
              "\n",
              "  <div id=\"df-cd7d864a-3ecf-4125-a7ab-f3005f58d32b\">\n",
              "    <div class=\"colab-df-container\">\n",
              "      <div>\n",
              "<style scoped>\n",
              "    .dataframe tbody tr th:only-of-type {\n",
              "        vertical-align: middle;\n",
              "    }\n",
              "\n",
              "    .dataframe tbody tr th {\n",
              "        vertical-align: top;\n",
              "    }\n",
              "\n",
              "    .dataframe thead th {\n",
              "        text-align: right;\n",
              "    }\n",
              "</style>\n",
              "<table border=\"1\" class=\"dataframe\">\n",
              "  <thead>\n",
              "    <tr style=\"text-align: right;\">\n",
              "      <th></th>\n",
              "      <th>Unnamed: 0</th>\n",
              "      <th>content</th>\n",
              "      <th>score</th>\n",
              "    </tr>\n",
              "  </thead>\n",
              "  <tbody>\n",
              "    <tr>\n",
              "      <th>0</th>\n",
              "      <td>0</td>\n",
              "      <td>Firstly i like this app very so much. But afte...</td>\n",
              "      <td>1</td>\n",
              "    </tr>\n",
              "    <tr>\n",
              "      <th>1</th>\n",
              "      <td>1</td>\n",
              "      <td>The reason behind giving only one star is the ...</td>\n",
              "      <td>1</td>\n",
              "    </tr>\n",
              "    <tr>\n",
              "      <th>2</th>\n",
              "      <td>2</td>\n",
              "      <td>Although this app is good but still i hate it....</td>\n",
              "      <td>1</td>\n",
              "    </tr>\n",
              "    <tr>\n",
              "      <th>3</th>\n",
              "      <td>3</td>\n",
              "      <td>Can't access any settings within this app from...</td>\n",
              "      <td>1</td>\n",
              "    </tr>\n",
              "    <tr>\n",
              "      <th>4</th>\n",
              "      <td>4</td>\n",
              "      <td>I have online classes I can't hear it nicely i...</td>\n",
              "      <td>1</td>\n",
              "    </tr>\n",
              "  </tbody>\n",
              "</table>\n",
              "</div>\n",
              "      <button class=\"colab-df-convert\" onclick=\"convertToInteractive('df-cd7d864a-3ecf-4125-a7ab-f3005f58d32b')\"\n",
              "              title=\"Convert this dataframe to an interactive table.\"\n",
              "              style=\"display:none;\">\n",
              "        \n",
              "  <svg xmlns=\"http://www.w3.org/2000/svg\" height=\"24px\"viewBox=\"0 0 24 24\"\n",
              "       width=\"24px\">\n",
              "    <path d=\"M0 0h24v24H0V0z\" fill=\"none\"/>\n",
              "    <path d=\"M18.56 5.44l.94 2.06.94-2.06 2.06-.94-2.06-.94-.94-2.06-.94 2.06-2.06.94zm-11 1L8.5 8.5l.94-2.06 2.06-.94-2.06-.94L8.5 2.5l-.94 2.06-2.06.94zm10 10l.94 2.06.94-2.06 2.06-.94-2.06-.94-.94-2.06-.94 2.06-2.06.94z\"/><path d=\"M17.41 7.96l-1.37-1.37c-.4-.4-.92-.59-1.43-.59-.52 0-1.04.2-1.43.59L10.3 9.45l-7.72 7.72c-.78.78-.78 2.05 0 2.83L4 21.41c.39.39.9.59 1.41.59.51 0 1.02-.2 1.41-.59l7.78-7.78 2.81-2.81c.8-.78.8-2.07 0-2.86zM5.41 20L4 18.59l7.72-7.72 1.47 1.35L5.41 20z\"/>\n",
              "  </svg>\n",
              "      </button>\n",
              "      \n",
              "  <style>\n",
              "    .colab-df-container {\n",
              "      display:flex;\n",
              "      flex-wrap:wrap;\n",
              "      gap: 12px;\n",
              "    }\n",
              "\n",
              "    .colab-df-convert {\n",
              "      background-color: #E8F0FE;\n",
              "      border: none;\n",
              "      border-radius: 50%;\n",
              "      cursor: pointer;\n",
              "      display: none;\n",
              "      fill: #1967D2;\n",
              "      height: 32px;\n",
              "      padding: 0 0 0 0;\n",
              "      width: 32px;\n",
              "    }\n",
              "\n",
              "    .colab-df-convert:hover {\n",
              "      background-color: #E2EBFA;\n",
              "      box-shadow: 0px 1px 2px rgba(60, 64, 67, 0.3), 0px 1px 3px 1px rgba(60, 64, 67, 0.15);\n",
              "      fill: #174EA6;\n",
              "    }\n",
              "\n",
              "    [theme=dark] .colab-df-convert {\n",
              "      background-color: #3B4455;\n",
              "      fill: #D2E3FC;\n",
              "    }\n",
              "\n",
              "    [theme=dark] .colab-df-convert:hover {\n",
              "      background-color: #434B5C;\n",
              "      box-shadow: 0px 1px 3px 1px rgba(0, 0, 0, 0.15);\n",
              "      filter: drop-shadow(0px 1px 2px rgba(0, 0, 0, 0.3));\n",
              "      fill: #FFFFFF;\n",
              "    }\n",
              "  </style>\n",
              "\n",
              "      <script>\n",
              "        const buttonEl =\n",
              "          document.querySelector('#df-cd7d864a-3ecf-4125-a7ab-f3005f58d32b button.colab-df-convert');\n",
              "        buttonEl.style.display =\n",
              "          google.colab.kernel.accessAllowed ? 'block' : 'none';\n",
              "\n",
              "        async function convertToInteractive(key) {\n",
              "          const element = document.querySelector('#df-cd7d864a-3ecf-4125-a7ab-f3005f58d32b');\n",
              "          const dataTable =\n",
              "            await google.colab.kernel.invokeFunction('convertToInteractive',\n",
              "                                                     [key], {});\n",
              "          if (!dataTable) return;\n",
              "\n",
              "          const docLinkHtml = 'Like what you see? Visit the ' +\n",
              "            '<a target=\"_blank\" href=https://colab.research.google.com/notebooks/data_table.ipynb>data table notebook</a>'\n",
              "            + ' to learn more about interactive tables.';\n",
              "          element.innerHTML = '';\n",
              "          dataTable['output_type'] = 'display_data';\n",
              "          await google.colab.output.renderOutput(dataTable, element);\n",
              "          const docLink = document.createElement('div');\n",
              "          docLink.innerHTML = docLinkHtml;\n",
              "          element.appendChild(docLink);\n",
              "        }\n",
              "      </script>\n",
              "    </div>\n",
              "  </div>\n",
              "  "
            ]
          },
          "metadata": {},
          "execution_count": 9
        }
      ]
    },
    {
      "cell_type": "code",
      "metadata": {
        "id": "t-XpXgIBSlQk",
        "colab": {
          "base_uri": "https://localhost:8080/",
          "height": 206
        },
        "outputId": "0d35d434-ed99-4d5f-fd7a-b5b183888034"
      },
      "source": [
        "df.tail()"
      ],
      "execution_count": null,
      "outputs": [
        {
          "output_type": "execute_result",
          "data": {
            "text/plain": [
              "      Unnamed: 0                 content  score\n",
              "3893        5293                Nice app      5\n",
              "3894        5294                  😡😡😡😡😡.      5\n",
              "3895        5295  Thank you for this app      5\n",
              "3896        5296                       👌      5\n",
              "3897        5297                     Wow      5"
            ],
            "text/html": [
              "\n",
              "  <div id=\"df-5d13a2d7-2311-4cf1-95c7-ec5d72f478ee\">\n",
              "    <div class=\"colab-df-container\">\n",
              "      <div>\n",
              "<style scoped>\n",
              "    .dataframe tbody tr th:only-of-type {\n",
              "        vertical-align: middle;\n",
              "    }\n",
              "\n",
              "    .dataframe tbody tr th {\n",
              "        vertical-align: top;\n",
              "    }\n",
              "\n",
              "    .dataframe thead th {\n",
              "        text-align: right;\n",
              "    }\n",
              "</style>\n",
              "<table border=\"1\" class=\"dataframe\">\n",
              "  <thead>\n",
              "    <tr style=\"text-align: right;\">\n",
              "      <th></th>\n",
              "      <th>Unnamed: 0</th>\n",
              "      <th>content</th>\n",
              "      <th>score</th>\n",
              "    </tr>\n",
              "  </thead>\n",
              "  <tbody>\n",
              "    <tr>\n",
              "      <th>3893</th>\n",
              "      <td>5293</td>\n",
              "      <td>Nice app</td>\n",
              "      <td>5</td>\n",
              "    </tr>\n",
              "    <tr>\n",
              "      <th>3894</th>\n",
              "      <td>5294</td>\n",
              "      <td>😡😡😡😡😡.</td>\n",
              "      <td>5</td>\n",
              "    </tr>\n",
              "    <tr>\n",
              "      <th>3895</th>\n",
              "      <td>5295</td>\n",
              "      <td>Thank you for this app</td>\n",
              "      <td>5</td>\n",
              "    </tr>\n",
              "    <tr>\n",
              "      <th>3896</th>\n",
              "      <td>5296</td>\n",
              "      <td>👌</td>\n",
              "      <td>5</td>\n",
              "    </tr>\n",
              "    <tr>\n",
              "      <th>3897</th>\n",
              "      <td>5297</td>\n",
              "      <td>Wow</td>\n",
              "      <td>5</td>\n",
              "    </tr>\n",
              "  </tbody>\n",
              "</table>\n",
              "</div>\n",
              "      <button class=\"colab-df-convert\" onclick=\"convertToInteractive('df-5d13a2d7-2311-4cf1-95c7-ec5d72f478ee')\"\n",
              "              title=\"Convert this dataframe to an interactive table.\"\n",
              "              style=\"display:none;\">\n",
              "        \n",
              "  <svg xmlns=\"http://www.w3.org/2000/svg\" height=\"24px\"viewBox=\"0 0 24 24\"\n",
              "       width=\"24px\">\n",
              "    <path d=\"M0 0h24v24H0V0z\" fill=\"none\"/>\n",
              "    <path d=\"M18.56 5.44l.94 2.06.94-2.06 2.06-.94-2.06-.94-.94-2.06-.94 2.06-2.06.94zm-11 1L8.5 8.5l.94-2.06 2.06-.94-2.06-.94L8.5 2.5l-.94 2.06-2.06.94zm10 10l.94 2.06.94-2.06 2.06-.94-2.06-.94-.94-2.06-.94 2.06-2.06.94z\"/><path d=\"M17.41 7.96l-1.37-1.37c-.4-.4-.92-.59-1.43-.59-.52 0-1.04.2-1.43.59L10.3 9.45l-7.72 7.72c-.78.78-.78 2.05 0 2.83L4 21.41c.39.39.9.59 1.41.59.51 0 1.02-.2 1.41-.59l7.78-7.78 2.81-2.81c.8-.78.8-2.07 0-2.86zM5.41 20L4 18.59l7.72-7.72 1.47 1.35L5.41 20z\"/>\n",
              "  </svg>\n",
              "      </button>\n",
              "      \n",
              "  <style>\n",
              "    .colab-df-container {\n",
              "      display:flex;\n",
              "      flex-wrap:wrap;\n",
              "      gap: 12px;\n",
              "    }\n",
              "\n",
              "    .colab-df-convert {\n",
              "      background-color: #E8F0FE;\n",
              "      border: none;\n",
              "      border-radius: 50%;\n",
              "      cursor: pointer;\n",
              "      display: none;\n",
              "      fill: #1967D2;\n",
              "      height: 32px;\n",
              "      padding: 0 0 0 0;\n",
              "      width: 32px;\n",
              "    }\n",
              "\n",
              "    .colab-df-convert:hover {\n",
              "      background-color: #E2EBFA;\n",
              "      box-shadow: 0px 1px 2px rgba(60, 64, 67, 0.3), 0px 1px 3px 1px rgba(60, 64, 67, 0.15);\n",
              "      fill: #174EA6;\n",
              "    }\n",
              "\n",
              "    [theme=dark] .colab-df-convert {\n",
              "      background-color: #3B4455;\n",
              "      fill: #D2E3FC;\n",
              "    }\n",
              "\n",
              "    [theme=dark] .colab-df-convert:hover {\n",
              "      background-color: #434B5C;\n",
              "      box-shadow: 0px 1px 3px 1px rgba(0, 0, 0, 0.15);\n",
              "      filter: drop-shadow(0px 1px 2px rgba(0, 0, 0, 0.3));\n",
              "      fill: #FFFFFF;\n",
              "    }\n",
              "  </style>\n",
              "\n",
              "      <script>\n",
              "        const buttonEl =\n",
              "          document.querySelector('#df-5d13a2d7-2311-4cf1-95c7-ec5d72f478ee button.colab-df-convert');\n",
              "        buttonEl.style.display =\n",
              "          google.colab.kernel.accessAllowed ? 'block' : 'none';\n",
              "\n",
              "        async function convertToInteractive(key) {\n",
              "          const element = document.querySelector('#df-5d13a2d7-2311-4cf1-95c7-ec5d72f478ee');\n",
              "          const dataTable =\n",
              "            await google.colab.kernel.invokeFunction('convertToInteractive',\n",
              "                                                     [key], {});\n",
              "          if (!dataTable) return;\n",
              "\n",
              "          const docLinkHtml = 'Like what you see? Visit the ' +\n",
              "            '<a target=\"_blank\" href=https://colab.research.google.com/notebooks/data_table.ipynb>data table notebook</a>'\n",
              "            + ' to learn more about interactive tables.';\n",
              "          element.innerHTML = '';\n",
              "          dataTable['output_type'] = 'display_data';\n",
              "          await google.colab.output.renderOutput(dataTable, element);\n",
              "          const docLink = document.createElement('div');\n",
              "          docLink.innerHTML = docLinkHtml;\n",
              "          element.appendChild(docLink);\n",
              "        }\n",
              "      </script>\n",
              "    </div>\n",
              "  </div>\n",
              "  "
            ]
          },
          "metadata": {},
          "execution_count": 10
        }
      ]
    },
    {
      "cell_type": "code",
      "metadata": {
        "id": "5MeV_URdTBhm",
        "colab": {
          "base_uri": "https://localhost:8080/"
        },
        "outputId": "14c4a3be-1911-4e64-e7e6-82af950b3102"
      },
      "source": [
        "df['score'].unique()"
      ],
      "execution_count": null,
      "outputs": [
        {
          "output_type": "execute_result",
          "data": {
            "text/plain": [
              "array([1, 5])"
            ]
          },
          "metadata": {},
          "execution_count": 11
        }
      ]
    },
    {
      "cell_type": "code",
      "metadata": {
        "id": "0BfYqbxKDWYA"
      },
      "source": [
        "# Shuffle\n",
        "df = df.sample(frac=1).reset_index(drop=True)\n",
        "\n",
        "train_df = df[:3600][['content','score']]\n",
        "valid_df = df[3600:][['content','score']]\n"
      ],
      "execution_count": null,
      "outputs": []
    },
    {
      "cell_type": "code",
      "metadata": {
        "id": "-A5hGL0GA658",
        "colab": {
          "base_uri": "https://localhost:8080/"
        },
        "outputId": "326d8b74-ba2f-4260-8745-2a710e4f901e"
      },
      "source": [
        "train_df.shape"
      ],
      "execution_count": null,
      "outputs": [
        {
          "output_type": "execute_result",
          "data": {
            "text/plain": [
              "(3600, 2)"
            ]
          },
          "metadata": {},
          "execution_count": 13
        }
      ]
    },
    {
      "cell_type": "code",
      "source": [
        "valid_df.shape"
      ],
      "metadata": {
        "colab": {
          "base_uri": "https://localhost:8080/"
        },
        "id": "YEPT3EJ3Oq3j",
        "outputId": "b95358d9-b323-40c6-aa6e-9031eda95ffe"
      },
      "execution_count": null,
      "outputs": [
        {
          "output_type": "execute_result",
          "data": {
            "text/plain": [
              "(298, 2)"
            ]
          },
          "metadata": {},
          "execution_count": 14
        }
      ]
    },
    {
      "cell_type": "markdown",
      "metadata": {
        "id": "w3vcY32NS9wV"
      },
      "source": [
        "## Plot out some info"
      ]
    },
    {
      "cell_type": "code",
      "metadata": {
        "id": "U2S2-YPZDl94",
        "colab": {
          "base_uri": "https://localhost:8080/",
          "height": 281
        },
        "outputId": "3444b22f-b80c-4ba8-dae8-9f816c56dfd4"
      },
      "source": [
        "# review lengths\n",
        "df['length'] = df['content'].apply(lambda x: len(x.split(' ')))\n",
        "\n",
        "df.hist(\"length\", bins=10);"
      ],
      "execution_count": null,
      "outputs": [
        {
          "output_type": "display_data",
          "data": {
            "text/plain": [
              "<Figure size 432x288 with 1 Axes>"
            ],
            "image/png": "[encoded data removed]"
          },
          "metadata": {
            "needs_background": "light"
          }
        }
      ]
    },
    {
      "cell_type": "code",
      "metadata": {
        "id": "vG97WX1-GuPz",
        "colab": {
          "base_uri": "https://localhost:8080/",
          "height": 279
        },
        "outputId": "b6486a4b-6739-432b-9be9-9e3954e27eb9"
      },
      "source": [
        "# checking amounts for each class\n",
        "df['score'].value_counts().plot(kind='bar')"
      ],
      "execution_count": null,
      "outputs": [
        {
          "output_type": "execute_result",
          "data": {
            "text/plain": [
              "<matplotlib.axes._subplots.AxesSubplot at 0x7fb5f124a210>"
            ]
          },
          "metadata": {},
          "execution_count": 16
        },
        {
          "output_type": "display_data",
          "data": {
            "text/plain": [
              "<Figure size 432x288 with 1 Axes>"
            ],
            "image/png": "[encoded data removed]"
          },
          "metadata": {
            "needs_background": "light"
          }
        }
      ]
    },
    {
      "cell_type": "markdown",
      "metadata": {
        "id": "bpX8giAOEZSa"
      },
      "source": [
        "## Load the Model and Tokenizer\n",
        "\n",
        "1."
      ]
    },
    {
      "cell_type": "code",
      "metadata": {
        "id": "JrfHFoEokyzt",
        "colab": {
          "base_uri": "https://localhost:8080/",
          "height": 246,
          "referenced_widgets": [
            "fb527ef39e82452d95e34ab3e6cabede",
            "cfcd3f947d444ec4b20718c930fa3faa",
            "5a32e0a059a149ba8967de7327f38e30",
            "c3335938b59e4b288db9811510fce3e6",
            "b5a07233777a4674a90353a6d8445869",
            "73da4dd5779244d99ddac832d48f8d24",
            "1806ff5ee5b04c87a108d25196c48234",
            "551ae9e45877411aaf25c21cebc40083",
            "171986b90e374b0dba88e70ef7db9556",
            "51fd7e7b3f3d459e9824b18305c667cd",
            "b90234c693354ff48b5f31b0f2ccbfc3",
            "9f566ebbc81a44c4a7e1fb33175c62f5",
            "fd4943f9302f421da183bd625084cd5d",
            "135072d4baaf42b08b0e447476cddcc8",
            "1c296d34b6d84bb98defd25971fdeb51",
            "f8a0af305bec4fffaeeb9e8fd01d17a8",
            "e58b13a234c94247a967cbbff0b9b3b1",
            "312bf1ba5d394def9429830cc3923e58",
            "ebb9a8eedc4b4dabab68f199e641b122",
            "132371b65003485a9f2c59ac40699c86",
            "a81297d129d6463abdbe7e7e2c897d6a",
            "07bcf028b47946708959c89e9e3933e2",
            "9f698002914e4919938573de1e8f3ad6",
            "e877a4f6b3ed4018a9e348cac40d0f4d",
            "c3c5fc477e9749c6b1bdfb2b8c26b92d",
            "17ec46ad56e349ac980b67b80b97fe04",
            "9039009bbb5c41dfb134561a099453a8",
            "f93d9bfb192144c69c26223dc1c323f7",
            "f72a511badbd452a98b7084ce8fd2cbb",
            "4aee8fdc81f641dab7db0a484234a3f2",
            "a292ca7cb3d940329b6077524d006f7c",
            "6c61bb77e3c44f7d8b572f91eced6b71",
            "13dd2406618645929a27df5b8dc99f83",
            "49266e5c2f3e41a6aeb9807c6f099772",
            "15d1ff400dbb40199e8f634463830015",
            "d0dc5cf5a9f148b9b8647a0e4132c1d5",
            "488f414cdd954bf08d5020b897f5efcb",
            "7a4e6af2132e4f578c085f0ca0ff933f",
            "c865c126451a40048d568e9ea3725870",
            "17305d5c403b4285bbb6df982167c5f2",
            "2f54bae5d68949af9379ecc9c65851f4",
            "c375a36fdb864f2dbc3a42e74b775472",
            "26e5b8bc5ca343139cf1ab1bb973690d",
            "1a20102a25f44c9d9b672b8045b4d6fd",
            "b163a0c2d9b54587ad4b513d7eef9b95",
            "c5d14a4e49534770be8781a63ac9f138",
            "8f82189d6e4c4a4daefbe5dbd7ff9967",
            "c710ada50aa548629ab13870a50d6aa1",
            "038aa34b77524138a5cfa9b2bf96d793",
            "c533ea4521894e16a880337c2a9fd2fa",
            "b35cf8032538455e8dc22c59ace17be8",
            "9d7b849057e44e00933ffad3272abe51",
            "2d05ada7ab8049fe9d9db254c7a16c24",
            "953b67fb80574d3285d0f24bdce86790",
            "00cf888d07d34191a46c224705b36de1"
          ]
        },
        "outputId": "7b551cd7-7b81-477b-d3b2-3b5cfa621120"
      },
      "source": [
        "# What model will we use?\n",
        "model_name = 'bert-base-cased' #Can read both upper and lower case. This name willtell AUtoTokenizer which model to fetch #Roberta by FB\n",
        "\n",
        "# Load a tokenizer\n",
        "tokenizer = AutoTokenizer.from_pretrained(model_name)\n",
        "\n",
        "\n",
        "# Load the model\n",
        "model = TFAutoModelForSequenceClassification.from_pretrained(model_name, num_labels=2)"
      ],
      "execution_count": null,
      "outputs": [
        {
          "output_type": "display_data",
          "data": {
            "text/plain": [
              "Downloading:   0%|          | 0.00/29.0 [00:00<?, ?B/s]"
            ],
            "application/vnd.jupyter.widget-view+json": {
              "version_major": 2,
              "version_minor": 0,
              "model_id": "fb527ef39e82452d95e34ab3e6cabede"
            }
          },
          "metadata": {}
        },
        {
          "output_type": "display_data",
          "data": {
            "text/plain": [
              "Downloading:   0%|          | 0.00/570 [00:00<?, ?B/s]"
            ],
            "application/vnd.jupyter.widget-view+json": {
              "version_major": 2,
              "version_minor": 0,
              "model_id": "9f566ebbc81a44c4a7e1fb33175c62f5"
            }
          },
          "metadata": {}
        },
        {
          "output_type": "display_data",
          "data": {
            "text/plain": [
              "Downloading:   0%|          | 0.00/213k [00:00<?, ?B/s]"
            ],
            "application/vnd.jupyter.widget-view+json": {
              "version_major": 2,
              "version_minor": 0,
              "model_id": "9f698002914e4919938573de1e8f3ad6"
            }
          },
          "metadata": {}
        },
        {
          "output_type": "display_data",
          "data": {
            "text/plain": [
              "Downloading:   0%|          | 0.00/436k [00:00<?, ?B/s]"
            ],
            "application/vnd.jupyter.widget-view+json": {
              "version_major": 2,
              "version_minor": 0,
              "model_id": "49266e5c2f3e41a6aeb9807c6f099772"
            }
          },
          "metadata": {}
        },
        {
          "output_type": "display_data",
          "data": {
            "text/plain": [
              "Downloading:   0%|          | 0.00/527M [00:00<?, ?B/s]"
            ],
            "application/vnd.jupyter.widget-view+json": {
              "version_major": 2,
              "version_minor": 0,
              "model_id": "b163a0c2d9b54587ad4b513d7eef9b95"
            }
          },
          "metadata": {}
        },
        {
          "output_type": "stream",
          "name": "stderr",
          "text": [
            "All model checkpoint layers were used when initializing TFBertForSequenceClassification.\n",
            "\n",
            "Some layers of TFBertForSequenceClassification were not initialized from the model checkpoint at bert-base-cased and are newly initialized: ['classifier']\n",
            "You should probably TRAIN this model on a down-stream task to be able to use it for predictions and inference.\n"
          ]
        }
      ]
    },
    {
      "cell_type": "markdown",
      "source": [
        "Different cases different tokens and if no token present it will be subword."
      ],
      "metadata": {
        "id": "C-LokjhmQlSb"
      }
    },
    {
      "cell_type": "code",
      "source": [
        "tokenizer.tokenize('Tonight we are at the Women who code event')"
      ],
      "metadata": {
        "colab": {
          "base_uri": "https://localhost:8080/"
        },
        "id": "DXPQxSXDQUKT",
        "outputId": "9c2d99da-9027-4d24-9786-f4ba83f4a68c"
      },
      "execution_count": null,
      "outputs": [
        {
          "output_type": "execute_result",
          "data": {
            "text/plain": [
              "['Tonight', 'we', 'are', 'at', 'the', 'Women', 'who', 'code', 'event']"
            ]
          },
          "metadata": {},
          "execution_count": 20
        }
      ]
    },
    {
      "cell_type": "code",
      "source": [
        "tokenizer.tokenize('tonight we are at the Women who code event')"
      ],
      "metadata": {
        "colab": {
          "base_uri": "https://localhost:8080/"
        },
        "id": "TyP2uDbQQdca",
        "outputId": "fcc4d0f8-72b6-438f-8bc5-91aa9edacf68"
      },
      "execution_count": null,
      "outputs": [
        {
          "output_type": "execute_result",
          "data": {
            "text/plain": [
              "['tonight', 'we', 'are', 'at', 'the', 'Women', 'who', 'code', 'event']"
            ]
          },
          "metadata": {},
          "execution_count": 22
        }
      ]
    },
    {
      "cell_type": "code",
      "source": [
        "tokenizer.tokenize('Tonight we are at the Women who code event in Lusail')"
      ],
      "metadata": {
        "colab": {
          "base_uri": "https://localhost:8080/"
        },
        "id": "oS97bPEPQgM8",
        "outputId": "d9d3b185-d907-4b76-a32e-989301d80a2f"
      },
      "execution_count": null,
      "outputs": [
        {
          "output_type": "execute_result",
          "data": {
            "text/plain": [
              "['Tonight',\n",
              " 'we',\n",
              " 'are',\n",
              " 'at',\n",
              " 'the',\n",
              " 'Women',\n",
              " 'who',\n",
              " 'code',\n",
              " 'event',\n",
              " 'in',\n",
              " 'Lu',\n",
              " '##sai',\n",
              " '##l']"
            ]
          },
          "metadata": {},
          "execution_count": 23
        }
      ]
    },
    {
      "cell_type": "code",
      "source": [
        "tokenizer.tokenize('Tonight we are at the Women who code event in Lusail with J.K.Rowling')"
      ],
      "metadata": {
        "colab": {
          "base_uri": "https://localhost:8080/"
        },
        "id": "ozMdDXtbQzSB",
        "outputId": "cce18b72-6c45-4a85-d326-a396418c6b3b"
      },
      "execution_count": null,
      "outputs": [
        {
          "output_type": "execute_result",
          "data": {
            "text/plain": [
              "['Tonight',\n",
              " 'we',\n",
              " 'are',\n",
              " 'at',\n",
              " 'the',\n",
              " 'Women',\n",
              " 'who',\n",
              " 'code',\n",
              " 'event',\n",
              " 'in',\n",
              " 'Lu',\n",
              " '##sai',\n",
              " '##l',\n",
              " 'with',\n",
              " 'J',\n",
              " '.',\n",
              " 'K',\n",
              " '.',\n",
              " 'Row',\n",
              " '##ling']"
            ]
          },
          "metadata": {},
          "execution_count": 24
        }
      ]
    },
    {
      "cell_type": "markdown",
      "metadata": {
        "id": "duLtzcb68mRs"
      },
      "source": [
        "#### Preparing the text\n",
        "\n",
        "We need to get the text into a format so that we can pass it into the tokenizer"
      ]
    },
    {
      "cell_type": "code",
      "metadata": {
        "id": "k_sX6aygFEGw",
        "colab": {
          "base_uri": "https://localhost:8080/"
        },
        "outputId": "727ce5b8-7546-4f8c-d293-ae8331dfdfcf"
      },
      "source": [
        "train_texts = train_df['content'].tolist()\n",
        "valid_texts = valid_df['content'].tolist()\n",
        "\n",
        "print(len(train_texts))\n",
        "train_texts[:5]"
      ],
      "execution_count": null,
      "outputs": [
        {
          "output_type": "stream",
          "name": "stdout",
          "text": [
            "3600\n"
          ]
        },
        {
          "output_type": "execute_result",
          "data": {
            "text/plain": [
              "[\"Can't download this app.what is reason..?\",\n",
              " 'I like this app very most🥰 in case of low net it is very clear😄. Thank you google making this app🥰',\n",
              " 'Heenakausar',\n",
              " 'I cannot change my wallpaper',\n",
              " \"I can't use the microphone because it's easily damaged and takes time to repair. In fact, this app doesn't allow me to enter my class at a very important time. While I don't have to use a back pattern. This app keeps removing my face with a back pattern and I don’t want a pattern on my back. This app is inadequate also very not fully functional.Because I gave it 2 stars because I am not satisfied with the service provided by the Google Meet app.\"]"
            ]
          },
          "metadata": {},
          "execution_count": 25
        }
      ]
    },
    {
      "cell_type": "markdown",
      "metadata": {
        "id": "hI7diHrgVNS9"
      },
      "source": [
        "## Tokenizing, Padding and Truncating the text"
      ]
    },
    {
      "cell_type": "code",
      "metadata": {
        "id": "fmw0VX6jky4W"
      },
      "source": [
        "from pandas.core.computation.parsing import tokenize\n",
        "# Pad the tokenizer outputs to the same length for all samples\n",
        "\n",
        "# tokenize the training data\n",
        "train_tokens = tokenizer(train_texts, max_length=128, truncation=True, padding='max_length', add_special_tokens=True, return_token_type_ids=False, return_tensors='tf')\n",
        "\n",
        "\n",
        "# tokenize the validation data\n",
        "valid_tokens = tokenizer(valid_texts, max_length=128, truncation=True, padding='max_length', add_special_tokens=True, return_token_type_ids=False, return_tensors='tf')\n",
        "\n"
      ],
      "execution_count": null,
      "outputs": []
    },
    {
      "cell_type": "code",
      "metadata": {
        "id": "n8d07WuqE0jD",
        "colab": {
          "base_uri": "https://localhost:8080/"
        },
        "outputId": "f35b521b-f9ff-4b35-869e-eeb614ae40f8"
      },
      "source": [
        "# Lets look at the tokens\n",
        "tokenizer.special_tokens_map, tokenizer.cls_token_id, tokenizer.sep_token_id"
      ],
      "execution_count": null,
      "outputs": [
        {
          "output_type": "execute_result",
          "data": {
            "text/plain": [
              "({'unk_token': '[UNK]',\n",
              "  'sep_token': '[SEP]',\n",
              "  'pad_token': '[PAD]',\n",
              "  'cls_token': '[CLS]',\n",
              "  'mask_token': '[MASK]'},\n",
              " 101,\n",
              " 102)"
            ]
          },
          "metadata": {},
          "execution_count": 32
        }
      ]
    },
    {
      "cell_type": "code",
      "metadata": {
        "id": "06LhaL_pI73c",
        "colab": {
          "base_uri": "https://localhost:8080/"
        },
        "outputId": "d4b83836-8cfa-4d2e-b0b6-422c38b0aa0f"
      },
      "source": [
        "# what did the tokenizer make?\n",
        "train_tokens.keys()"
      ],
      "execution_count": null,
      "outputs": [
        {
          "output_type": "execute_result",
          "data": {
            "text/plain": [
              "dict_keys(['input_ids', 'attention_mask'])"
            ]
          },
          "metadata": {},
          "execution_count": 30
        }
      ]
    },
    {
      "cell_type": "code",
      "metadata": {
        "id": "0ydhWZdx93vq",
        "colab": {
          "base_uri": "https://localhost:8080/"
        },
        "outputId": "09ff7e35-bd60-449f-a169-ff769237c49f"
      },
      "source": [
        "# input_ids \n",
        "train_tokens['input_ids'][0]"
      ],
      "execution_count": null,
      "outputs": [
        {
          "output_type": "execute_result",
          "data": {
            "text/plain": [
              "<tf.Tensor: shape=(128,), dtype=int32, numpy=\n",
              "array([  101,  2825,   112,   189,  9133,  1142, 12647,   119,  1184,\n",
              "        1110,  2255,   119,   119,   136,   102,     0,     0,     0,\n",
              "           0,     0,     0,     0,     0,     0,     0,     0,     0,\n",
              "           0,     0,     0,     0,     0,     0,     0,     0,     0,\n",
              "           0,     0,     0,     0,     0,     0,     0,     0,     0,\n",
              "           0,     0,     0,     0,     0,     0,     0,     0,     0,\n",
              "           0,     0,     0,     0,     0,     0,     0,     0,     0,\n",
              "           0,     0,     0,     0,     0,     0,     0,     0,     0,\n",
              "           0,     0,     0,     0,     0,     0,     0,     0,     0,\n",
              "           0,     0,     0,     0,     0,     0,     0,     0,     0,\n",
              "           0,     0,     0,     0,     0,     0,     0,     0,     0,\n",
              "           0,     0,     0,     0,     0,     0,     0,     0,     0,\n",
              "           0,     0,     0,     0,     0,     0,     0,     0,     0,\n",
              "           0,     0,     0,     0,     0,     0,     0,     0,     0,\n",
              "           0,     0], dtype=int32)>"
            ]
          },
          "metadata": {},
          "execution_count": 31
        }
      ]
    },
    {
      "cell_type": "code",
      "metadata": {
        "id": "qaMZz3h2-EID",
        "colab": {
          "base_uri": "https://localhost:8080/"
        },
        "outputId": "b1df9bdc-dbfd-4a39-abb7-2d1724a76d97"
      },
      "source": [
        "# Attention masks\n",
        "train_tokens['attention_mask'][0]"
      ],
      "execution_count": null,
      "outputs": [
        {
          "output_type": "execute_result",
          "data": {
            "text/plain": [
              "<tf.Tensor: shape=(128,), dtype=int32, numpy=\n",
              "array([1, 1, 1, 1, 1, 1, 1, 1, 1, 1, 1, 1, 1, 1, 1, 0, 0, 0, 0, 0, 0, 0,\n",
              "       0, 0, 0, 0, 0, 0, 0, 0, 0, 0, 0, 0, 0, 0, 0, 0, 0, 0, 0, 0, 0, 0,\n",
              "       0, 0, 0, 0, 0, 0, 0, 0, 0, 0, 0, 0, 0, 0, 0, 0, 0, 0, 0, 0, 0, 0,\n",
              "       0, 0, 0, 0, 0, 0, 0, 0, 0, 0, 0, 0, 0, 0, 0, 0, 0, 0, 0, 0, 0, 0,\n",
              "       0, 0, 0, 0, 0, 0, 0, 0, 0, 0, 0, 0, 0, 0, 0, 0, 0, 0, 0, 0, 0, 0,\n",
              "       0, 0, 0, 0, 0, 0, 0, 0, 0, 0, 0, 0, 0, 0, 0, 0, 0, 0], dtype=int32)>"
            ]
          },
          "metadata": {},
          "execution_count": 33
        }
      ]
    },
    {
      "cell_type": "markdown",
      "metadata": {
        "id": "0pl8jtPa8i8V"
      },
      "source": [
        "### Creating the Labels"
      ]
    },
    {
      "cell_type": "code",
      "metadata": {
        "id": "Q2-C3WGeFae8",
        "colab": {
          "base_uri": "https://localhost:8080/"
        },
        "outputId": "f0475f5d-edf3-4a92-d33a-c9e30951fb42"
      },
      "source": [
        "# map the labels \n",
        "label_map = {1:0, 5:1}\n",
        "label_map"
      ],
      "execution_count": null,
      "outputs": [
        {
          "output_type": "execute_result",
          "data": {
            "text/plain": [
              "{1: 0, 5: 1}"
            ]
          },
          "metadata": {},
          "execution_count": 35
        }
      ]
    },
    {
      "cell_type": "code",
      "metadata": {
        "id": "KLe511n0IMFd"
      },
      "source": [
        "# Map the labels to our dictionary\n",
        "train_labels = train_df['score'].map(label_map).values\n",
        "valid_labels = valid_df['score'].map(label_map).values"
      ],
      "execution_count": null,
      "outputs": []
    },
    {
      "cell_type": "code",
      "metadata": {
        "id": "nigpCoOAGGBa",
        "colab": {
          "base_uri": "https://localhost:8080/"
        },
        "outputId": "36286617-0b28-43bb-9417-3b449c347224"
      },
      "source": [
        "# Lets check that \n",
        "row = 500\n",
        "\n",
        "train_df['score'].iloc[row], train_labels[row]"
      ],
      "execution_count": null,
      "outputs": [
        {
          "output_type": "execute_result",
          "data": {
            "text/plain": [
              "(5, 1)"
            ]
          },
          "metadata": {},
          "execution_count": 43
        }
      ]
    },
    {
      "cell_type": "markdown",
      "metadata": {
        "id": "NqM4s1Mv9XTb"
      },
      "source": [
        "## Setting up the model"
      ]
    },
    {
      "cell_type": "code",
      "metadata": {
        "id": "8oivCP6wlE63"
      },
      "source": [
        "# optimizer\n",
        "opt = tf.keras.optimizers.Adam(learning_rate=5e-5, epsilon=1e-08)"
      ],
      "execution_count": null,
      "outputs": []
    },
    {
      "cell_type": "code",
      "metadata": {
        "id": "0mmWNdudlIjq"
      },
      "source": [
        "#loss\n",
        "loss =  tf.keras.losses.SparseCategoricalCrossentropy(from_logits=True)\n",
        "# compile the model\n",
        "model.compile(optimizer=opt, loss=loss, metrics=['accuracy'])\n"
      ],
      "execution_count": null,
      "outputs": []
    },
    {
      "cell_type": "code",
      "metadata": {
        "id": "2Zm3ojnOlqky",
        "colab": {
          "base_uri": "https://localhost:8080/"
        },
        "outputId": "6a6caa45-4bfb-48c3-b9be-170c6796254b"
      },
      "source": [
        "# lets look at the model\n",
        "model.summary()"
      ],
      "execution_count": null,
      "outputs": [
        {
          "output_type": "stream",
          "name": "stdout",
          "text": [
            "Model: \"tf_bert_for_sequence_classification\"\n",
            "_________________________________________________________________\n",
            " Layer (type)                Output Shape              Param #   \n",
            "=================================================================\n",
            " bert (TFBertMainLayer)      multiple                  108310272 \n",
            "                                                                 \n",
            " dropout_37 (Dropout)        multiple                  0         \n",
            "                                                                 \n",
            " classifier (Dense)          multiple                  1538      \n",
            "                                                                 \n",
            "=================================================================\n",
            "Total params: 108,311,810\n",
            "Trainable params: 108,311,810\n",
            "Non-trainable params: 0\n",
            "_________________________________________________________________\n"
          ]
        }
      ]
    },
    {
      "cell_type": "code",
      "metadata": {
        "id": "Ze69mgR-EFbO"
      },
      "source": [
        "# lets freeze the bert layer\n",
        "model.layers[0].trainable=False #We can pass things trought it butweights are not updated"
      ],
      "execution_count": null,
      "outputs": []
    },
    {
      "cell_type": "code",
      "metadata": {
        "id": "CxNBqOi9EerX",
        "colab": {
          "base_uri": "https://localhost:8080/"
        },
        "outputId": "a73aa103-3395-4be3-fa07-771b3730e2aa"
      },
      "source": [
        "# lets look at the model again\n",
        "model.summary()"
      ],
      "execution_count": null,
      "outputs": [
        {
          "output_type": "stream",
          "name": "stdout",
          "text": [
            "Model: \"tf_bert_for_sequence_classification\"\n",
            "_________________________________________________________________\n",
            " Layer (type)                Output Shape              Param #   \n",
            "=================================================================\n",
            " bert (TFBertMainLayer)      multiple                  108310272 \n",
            "                                                                 \n",
            " dropout_37 (Dropout)        multiple                  0         \n",
            "                                                                 \n",
            " classifier (Dense)          multiple                  1538      \n",
            "                                                                 \n",
            "=================================================================\n",
            "Total params: 108,311,810\n",
            "Trainable params: 1,538\n",
            "Non-trainable params: 108,310,272\n",
            "_________________________________________________________________\n"
          ]
        }
      ]
    },
    {
      "cell_type": "markdown",
      "metadata": {
        "id": "m2JfbBfWq0ag"
      },
      "source": [
        "### Training"
      ]
    },
    {
      "cell_type": "code",
      "metadata": {
        "id": "gCxCePpBktOf",
        "colab": {
          "base_uri": "https://localhost:8080/"
        },
        "outputId": "4100681c-18b5-4693-aa03-7db33283cab2"
      },
      "source": [
        "# train the model\n",
        "model.fit(dict(train_tokens), train_labels, epochs=3, batch_size=16, validation_data=(dict(valid_tokens), valid_labels), verbose=1)"
      ],
      "execution_count": null,
      "outputs": [
        {
          "output_type": "stream",
          "name": "stdout",
          "text": [
            "Epoch 1/3\n",
            "225/225 [==============================] - 110s 423ms/step - loss: 0.5420 - accuracy: 0.7328 - val_loss: 0.4605 - val_accuracy: 0.8255\n",
            "Epoch 2/3\n",
            "225/225 [==============================] - 93s 412ms/step - loss: 0.4008 - accuracy: 0.8336 - val_loss: 0.4669 - val_accuracy: 0.7953\n",
            "Epoch 3/3\n",
            "225/225 [==============================] - 93s 414ms/step - loss: 0.2953 - accuracy: 0.8869 - val_loss: 0.4604 - val_accuracy: 0.8188\n"
          ]
        },
        {
          "output_type": "execute_result",
          "data": {
            "text/plain": [
              "<keras.callbacks.History at 0x7fb4c2a90f10>"
            ]
          },
          "metadata": {},
          "execution_count": 51
        }
      ]
    },
    {
      "cell_type": "code",
      "source": [
        "model.evaluate(dict(valid_tokens), valid_labels)"
      ],
      "metadata": {
        "colab": {
          "base_uri": "https://localhost:8080/"
        },
        "id": "ncYVNid5WXLt",
        "outputId": "574d168e-36d3-464f-dbb6-7da66f013d71"
      },
      "execution_count": null,
      "outputs": [
        {
          "output_type": "stream",
          "name": "stdout",
          "text": [
            "10/10 [==============================] - 3s 252ms/step - loss: 0.4604 - accuracy: 0.8188\n"
          ]
        },
        {
          "output_type": "execute_result",
          "data": {
            "text/plain": [
              "[0.4603744149208069, 0.818791925907135]"
            ]
          },
          "metadata": {},
          "execution_count": 55
        }
      ]
    },
    {
      "cell_type": "markdown",
      "metadata": {
        "id": "uDduZr5oMcXe"
      },
      "source": [
        "## Predictions"
      ]
    },
    {
      "cell_type": "code",
      "metadata": {
        "id": "v2ZmsDQp7x3e"
      },
      "source": [
        "review = 'This app is pretty cool and has lots of good features'\n",
        "# review = 'This app is pretty bad and has lots of awful features'\n",
        "\n"
      ],
      "execution_count": null,
      "outputs": []
    },
    {
      "cell_type": "code",
      "metadata": {
        "id": "jv0iSykd9dJK"
      },
      "source": [
        "review_tokens = tokenizer([review], max_length=128, truncation=True, padding='max_length', add_special_tokens=True, return_token_type_ids=False, return_tensors='tf')"
      ],
      "execution_count": null,
      "outputs": []
    },
    {
      "cell_type": "code",
      "metadata": {
        "id": "697R9ztn9dMD",
        "colab": {
          "base_uri": "https://localhost:8080/"
        },
        "outputId": "9448876f-4342-4ef4-ee41-11c6c5f021f9"
      },
      "source": [
        "review_tokens"
      ],
      "execution_count": null,
      "outputs": [
        {
          "output_type": "execute_result",
          "data": {
            "text/plain": [
              "{'input_ids': <tf.Tensor: shape=(1, 128), dtype=int32, numpy=\n",
              "array([[  101,  1188, 12647,  1110,  2785,  4348,  1105,  1144,  7424,\n",
              "         1104,  1363,  1956,   102,     0,     0,     0,     0,     0,\n",
              "            0,     0,     0,     0,     0,     0,     0,     0,     0,\n",
              "            0,     0,     0,     0,     0,     0,     0,     0,     0,\n",
              "            0,     0,     0,     0,     0,     0,     0,     0,     0,\n",
              "            0,     0,     0,     0,     0,     0,     0,     0,     0,\n",
              "            0,     0,     0,     0,     0,     0,     0,     0,     0,\n",
              "            0,     0,     0,     0,     0,     0,     0,     0,     0,\n",
              "            0,     0,     0,     0,     0,     0,     0,     0,     0,\n",
              "            0,     0,     0,     0,     0,     0,     0,     0,     0,\n",
              "            0,     0,     0,     0,     0,     0,     0,     0,     0,\n",
              "            0,     0,     0,     0,     0,     0,     0,     0,     0,\n",
              "            0,     0,     0,     0,     0,     0,     0,     0,     0,\n",
              "            0,     0,     0,     0,     0,     0,     0,     0,     0,\n",
              "            0,     0]], dtype=int32)>, 'attention_mask': <tf.Tensor: shape=(1, 128), dtype=int32, numpy=\n",
              "array([[1, 1, 1, 1, 1, 1, 1, 1, 1, 1, 1, 1, 1, 0, 0, 0, 0, 0, 0, 0, 0, 0,\n",
              "        0, 0, 0, 0, 0, 0, 0, 0, 0, 0, 0, 0, 0, 0, 0, 0, 0, 0, 0, 0, 0, 0,\n",
              "        0, 0, 0, 0, 0, 0, 0, 0, 0, 0, 0, 0, 0, 0, 0, 0, 0, 0, 0, 0, 0, 0,\n",
              "        0, 0, 0, 0, 0, 0, 0, 0, 0, 0, 0, 0, 0, 0, 0, 0, 0, 0, 0, 0, 0, 0,\n",
              "        0, 0, 0, 0, 0, 0, 0, 0, 0, 0, 0, 0, 0, 0, 0, 0, 0, 0, 0, 0, 0, 0,\n",
              "        0, 0, 0, 0, 0, 0, 0, 0, 0, 0, 0, 0, 0, 0, 0, 0, 0, 0]],\n",
              "      dtype=int32)>}"
            ]
          },
          "metadata": {},
          "execution_count": 54
        }
      ]
    },
    {
      "cell_type": "code",
      "metadata": {
        "id": "XrZ-iRYU9daF",
        "colab": {
          "base_uri": "https://localhost:8080/"
        },
        "outputId": "3f7c90fe-e30b-4cca-9279-945089d9898e"
      },
      "source": [
        "# PREDICTION \n",
        "pred = model.predict(dict(review_tokens))[0]\n",
        "\n",
        "print(pred)\n",
        "\n",
        "pred = tf.keras.activations.softmax(tf.constant(pred)).numpy()\n",
        "pred"
      ],
      "execution_count": null,
      "outputs": [
        {
          "output_type": "stream",
          "name": "stdout",
          "text": [
            "1/1 [==============================] - 0s 72ms/step\n",
            "[[-1.8706787  1.1692321]]\n"
          ]
        },
        {
          "output_type": "execute_result",
          "data": {
            "text/plain": [
              "array([[0.04565506, 0.9543449 ]], dtype=float32)"
            ]
          },
          "metadata": {},
          "execution_count": 58
        }
      ]
    },
    {
      "cell_type": "code",
      "metadata": {
        "id": "oOA8gf5MNOKG",
        "colab": {
          "base_uri": "https://localhost:8080/"
        },
        "outputId": "15bbaf8d-3585-49ad-ab1d-a0b6b827a016"
      },
      "source": [
        "# argmax out the result\n",
        "np.argmax(pred, axis=-1)"
      ],
      "execution_count": null,
      "outputs": [
        {
          "output_type": "execute_result",
          "data": {
            "text/plain": [
              "array([1])"
            ]
          },
          "metadata": {},
          "execution_count": 59
        }
      ]
    },
    {
      "cell_type": "code",
      "metadata": {
        "id": "i1QNSlayNoiV",
        "colab": {
          "base_uri": "https://localhost:8080/"
        },
        "outputId": "1aa7c82b-043f-4544-97f6-ddb1c7d05455"
      },
      "source": [
        "model.summary()"
      ],
      "execution_count": null,
      "outputs": [
        {
          "output_type": "stream",
          "name": "stdout",
          "text": [
            "Model: \"tf_bert_for_sequence_classification\"\n",
            "_________________________________________________________________\n",
            " Layer (type)                Output Shape              Param #   \n",
            "=================================================================\n",
            " bert (TFBertMainLayer)      multiple                  108310272 \n",
            "                                                                 \n",
            " dropout_37 (Dropout)        multiple                  0         \n",
            "                                                                 \n",
            " classifier (Dense)          multiple                  1538      \n",
            "                                                                 \n",
            "=================================================================\n",
            "Total params: 108,311,810\n",
            "Trainable params: 1,538\n",
            "Non-trainable params: 108,310,272\n",
            "_________________________________________________________________\n"
          ]
        }
      ]
    },
    {
      "cell_type": "code",
      "source": [],
      "metadata": {
        "id": "jehxInDaPV--"
      },
      "execution_count": null,
      "outputs": []
    },
    {
      "cell_type": "code",
      "source": [
        "def get_model_layers(model):\n",
        "    layers_temp = []\n",
        "    layers = []\n",
        "    weights = []\n",
        "    params_total = 0\n",
        "    for layer in model.layers:\n",
        "        type_name = type(layer).__name__\n",
        "        print(layer.name, type_name, layer.count_params())\n",
        "        for i,sub in enumerate(layer.submodules):\n",
        "            if sub.built:\n",
        "                print(i+1, type(sub).__name__, sub.trainable, sub.count_params())\n",
        "        # add params\n",
        "        params_total += layer.count_params()\n",
        "\n",
        "        #get the weights\n",
        "        layer_wb = layer.get_weights()\n",
        "        weights.append(layer_wb)\n",
        "\n",
        "        # the raw weights\n",
        "        layers_temp.append(layer)\n",
        "    print(len(layers_temp))\n",
        "    return layers,layers_temp, params_total\n",
        "\n",
        "get_model_layers(model)"
      ],
      "metadata": {
        "id": "avB69XyOPWHm",
        "colab": {
          "base_uri": "https://localhost:8080/"
        },
        "outputId": "55b8ca04-5bcc-4b55-bb1d-8c8644fc6551"
      },
      "execution_count": null,
      "outputs": [
        {
          "output_type": "stream",
          "name": "stdout",
          "text": [
            "bert TFBertMainLayer 108310272\n",
            "1 TFBertEmbeddings False 22665216\n",
            "2 TFBertEncoder False 85054464\n",
            "3 TFBertPooler False 590592\n",
            "4 LayerNormalization False 1536\n",
            "5 Dropout False 0\n",
            "6 TFBertLayer False 7087872\n",
            "7 TFBertLayer False 7087872\n",
            "8 TFBertLayer False 7087872\n",
            "9 TFBertLayer False 7087872\n",
            "10 TFBertLayer False 7087872\n",
            "11 TFBertLayer False 7087872\n",
            "12 TFBertLayer False 7087872\n",
            "13 TFBertLayer False 7087872\n",
            "14 TFBertLayer False 7087872\n",
            "15 TFBertLayer False 7087872\n",
            "16 TFBertLayer False 7087872\n",
            "17 TFBertLayer False 7087872\n",
            "18 TFBertAttention False 2363904\n",
            "19 TFBertIntermediate False 2362368\n",
            "20 TFBertOutput False 2361600\n",
            "21 TFBertSelfAttention False 1771776\n",
            "22 TFBertSelfOutput False 592128\n",
            "23 Dense False 590592\n",
            "24 Dense False 590592\n",
            "25 Dense False 590592\n",
            "26 Dropout False 0\n",
            "27 LayerNormalization False 1536\n",
            "28 Dense False 590592\n",
            "29 Dropout False 0\n",
            "30 Dense False 2362368\n",
            "31 LayerNormalization False 1536\n",
            "32 Dense False 2360064\n",
            "33 Dropout False 0\n",
            "34 TFBertAttention False 2363904\n",
            "35 TFBertIntermediate False 2362368\n",
            "36 TFBertOutput False 2361600\n",
            "37 TFBertSelfAttention False 1771776\n",
            "38 TFBertSelfOutput False 592128\n",
            "39 Dense False 590592\n",
            "40 Dense False 590592\n",
            "41 Dense False 590592\n",
            "42 Dropout False 0\n",
            "43 LayerNormalization False 1536\n",
            "44 Dense False 590592\n",
            "45 Dropout False 0\n",
            "46 Dense False 2362368\n",
            "47 LayerNormalization False 1536\n",
            "48 Dense False 2360064\n",
            "49 Dropout False 0\n",
            "50 TFBertAttention False 2363904\n",
            "51 TFBertIntermediate False 2362368\n",
            "52 TFBertOutput False 2361600\n",
            "53 TFBertSelfAttention False 1771776\n",
            "54 TFBertSelfOutput False 592128\n",
            "55 Dense False 590592\n",
            "56 Dense False 590592\n",
            "57 Dense False 590592\n",
            "58 Dropout False 0\n",
            "59 LayerNormalization False 1536\n",
            "60 Dense False 590592\n",
            "61 Dropout False 0\n",
            "62 Dense False 2362368\n",
            "63 LayerNormalization False 1536\n",
            "64 Dense False 2360064\n",
            "65 Dropout False 0\n",
            "66 TFBertAttention False 2363904\n",
            "67 TFBertIntermediate False 2362368\n",
            "68 TFBertOutput False 2361600\n",
            "69 TFBertSelfAttention False 1771776\n",
            "70 TFBertSelfOutput False 592128\n",
            "71 Dense False 590592\n",
            "72 Dense False 590592\n",
            "73 Dense False 590592\n",
            "74 Dropout False 0\n",
            "75 LayerNormalization False 1536\n",
            "76 Dense False 590592\n",
            "77 Dropout False 0\n",
            "78 Dense False 2362368\n",
            "79 LayerNormalization False 1536\n",
            "80 Dense False 2360064\n",
            "81 Dropout False 0\n",
            "82 TFBertAttention False 2363904\n",
            "83 TFBertIntermediate False 2362368\n",
            "84 TFBertOutput False 2361600\n",
            "85 TFBertSelfAttention False 1771776\n",
            "86 TFBertSelfOutput False 592128\n",
            "87 Dense False 590592\n",
            "88 Dense False 590592\n",
            "89 Dense False 590592\n",
            "90 Dropout False 0\n",
            "91 LayerNormalization False 1536\n",
            "92 Dense False 590592\n",
            "93 Dropout False 0\n",
            "94 Dense False 2362368\n",
            "95 LayerNormalization False 1536\n",
            "96 Dense False 2360064\n",
            "97 Dropout False 0\n",
            "98 TFBertAttention False 2363904\n",
            "99 TFBertIntermediate False 2362368\n",
            "100 TFBertOutput False 2361600\n",
            "101 TFBertSelfAttention False 1771776\n",
            "102 TFBertSelfOutput False 592128\n",
            "103 Dense False 590592\n",
            "104 Dense False 590592\n",
            "105 Dense False 590592\n",
            "106 Dropout False 0\n",
            "107 LayerNormalization False 1536\n",
            "108 Dense False 590592\n",
            "109 Dropout False 0\n",
            "110 Dense False 2362368\n",
            "111 LayerNormalization False 1536\n",
            "112 Dense False 2360064\n",
            "113 Dropout False 0\n",
            "114 TFBertAttention False 2363904\n",
            "115 TFBertIntermediate False 2362368\n",
            "116 TFBertOutput False 2361600\n",
            "117 TFBertSelfAttention False 1771776\n",
            "118 TFBertSelfOutput False 592128\n",
            "119 Dense False 590592\n",
            "120 Dense False 590592\n",
            "121 Dense False 590592\n",
            "122 Dropout False 0\n",
            "123 LayerNormalization False 1536\n",
            "124 Dense False 590592\n",
            "125 Dropout False 0\n",
            "126 Dense False 2362368\n",
            "127 LayerNormalization False 1536\n",
            "128 Dense False 2360064\n",
            "129 Dropout False 0\n",
            "130 TFBertAttention False 2363904\n",
            "131 TFBertIntermediate False 2362368\n",
            "132 TFBertOutput False 2361600\n",
            "133 TFBertSelfAttention False 1771776\n",
            "134 TFBertSelfOutput False 592128\n",
            "135 Dense False 590592\n",
            "136 Dense False 590592\n",
            "137 Dense False 590592\n",
            "138 Dropout False 0\n",
            "139 LayerNormalization False 1536\n",
            "140 Dense False 590592\n",
            "141 Dropout False 0\n",
            "142 Dense False 2362368\n",
            "143 LayerNormalization False 1536\n",
            "144 Dense False 2360064\n",
            "145 Dropout False 0\n",
            "146 TFBertAttention False 2363904\n",
            "147 TFBertIntermediate False 2362368\n",
            "148 TFBertOutput False 2361600\n",
            "149 TFBertSelfAttention False 1771776\n",
            "150 TFBertSelfOutput False 592128\n",
            "151 Dense False 590592\n",
            "152 Dense False 590592\n",
            "153 Dense False 590592\n",
            "154 Dropout False 0\n",
            "155 LayerNormalization False 1536\n",
            "156 Dense False 590592\n",
            "157 Dropout False 0\n",
            "158 Dense False 2362368\n",
            "159 LayerNormalization False 1536\n",
            "160 Dense False 2360064\n",
            "161 Dropout False 0\n",
            "162 TFBertAttention False 2363904\n",
            "163 TFBertIntermediate False 2362368\n",
            "164 TFBertOutput False 2361600\n",
            "165 TFBertSelfAttention False 1771776\n",
            "166 TFBertSelfOutput False 592128\n",
            "167 Dense False 590592\n",
            "168 Dense False 590592\n",
            "169 Dense False 590592\n",
            "170 Dropout False 0\n",
            "171 LayerNormalization False 1536\n",
            "172 Dense False 590592\n",
            "173 Dropout False 0\n",
            "174 Dense False 2362368\n",
            "175 LayerNormalization False 1536\n",
            "176 Dense False 2360064\n",
            "177 Dropout False 0\n",
            "178 TFBertAttention False 2363904\n",
            "179 TFBertIntermediate False 2362368\n",
            "180 TFBertOutput False 2361600\n",
            "181 TFBertSelfAttention False 1771776\n",
            "182 TFBertSelfOutput False 592128\n",
            "183 Dense False 590592\n",
            "184 Dense False 590592\n",
            "185 Dense False 590592\n",
            "186 Dropout False 0\n",
            "187 LayerNormalization False 1536\n",
            "188 Dense False 590592\n",
            "189 Dropout False 0\n",
            "190 Dense False 2362368\n",
            "191 LayerNormalization False 1536\n",
            "192 Dense False 2360064\n",
            "193 Dropout False 0\n",
            "194 TFBertAttention False 2363904\n",
            "195 TFBertIntermediate False 2362368\n",
            "196 TFBertOutput False 2361600\n",
            "197 TFBertSelfAttention False 1771776\n",
            "198 TFBertSelfOutput False 592128\n",
            "199 Dense False 590592\n",
            "200 Dense False 590592\n",
            "201 Dense False 590592\n",
            "202 Dropout False 0\n",
            "203 LayerNormalization False 1536\n",
            "204 Dense False 590592\n",
            "205 Dropout False 0\n",
            "206 Dense False 2362368\n",
            "207 LayerNormalization False 1536\n",
            "208 Dense False 2360064\n",
            "209 Dropout False 0\n",
            "210 Dense False 590592\n",
            "dropout_37 Dropout 0\n",
            "classifier Dense 1538\n",
            "3\n"
          ]
        },
        {
          "output_type": "execute_result",
          "data": {
            "text/plain": [
              "([],\n",
              " [<transformers.models.bert.modeling_tf_bert.TFBertMainLayer at 0x7fb57a8c2f50>,\n",
              "  <keras.layers.regularization.dropout.Dropout at 0x7fb570612890>,\n",
              "  <keras.layers.core.dense.Dense at 0x7fb570438050>],\n",
              " 108311810)"
            ]
          },
          "metadata": {},
          "execution_count": 61
        }
      ]
    },
    {
      "cell_type": "code",
      "source": [],
      "metadata": {
        "id": "jNnkMVcJX51V"
      },
      "execution_count": null,
      "outputs": []
    }
  ]
}